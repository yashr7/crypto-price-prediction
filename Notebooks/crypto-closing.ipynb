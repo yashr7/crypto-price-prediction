{
 "cells": [
  {
   "cell_type": "markdown",
   "metadata": {
    "id": "trFRqFe0KC76"
   },
   "source": [
    "# DMA COURSE PROJECT\n",
    "### 5th Sem, CSE \n",
    "### Team 07 \n",
    "|             NAME            \t|          USN        \t|\n",
    "|:---------------------------:\t|:-------------------:\t|\n",
    "|         Arpit   Arora       \t|     01FE19BCS232    \t|\n",
    "|          Yash   Raj         \t|     01FE19BCS229    \t|\n",
    "|     Sivanand   Mahapatra    \t|     01FE19BCS230    \t|\n",
    "|        Nitish   Kumar       \t|     01FE19BCS227    \t|\n",
    "|           Nihad   J         \t|     01FE19BCS260    \t|\n",
    "\n",
    "\n",
    "## 5DMACP05 - Cryptocurrency Closing Price Prediction Challenge \n",
    "\n",
    "\n",
    "\n",
    "\n",
    "## 1. Problem Statement\n",
    "\n",
    "> After the boom and bust of cryptocurrencies’ prices in recent years, cryptocurrencies have been increasingly regarded as an investment asset. Because of their highly volatile nature, there is a need for good predictions on which to base investment decisions. Different existing studies have leveraged machine learning for more accurate cryptocurrency price prediction. We are interested in applying different modeling techniques to samples with different data structures (qualitative and quantitative data) and dimensional features to achieve an optimization in price prediction.\n",
    "\n",
    "\n",
    "## 2. Data\n",
    "\n",
    "[Dataset from Zindi](https://zindi.africa/competitions/cryptocurrency-closing-price-prediction/data), \n",
    "\n",
    "There are 3 datasets:\n",
    "1. **Train.csv** - contains the target. This is the dataset that you will use to train your model..\n",
    "2. **Test.csv** - resembles Train.csv but without the target-related columns. This is the dataset on which you will apply your model to..\n",
    "3. **SampleSubmission.csv** - shows the submission format for this competition, with the ‘id’ column mirroring that of Test.csv and the close column containing your predictions.\n",
    "\n",
    "## 3. Evaluation\n",
    "\n",
    "For this problem, our main goal is to reach and exceed a given threshold (a specified RMSE score) in the final developed model.\n",
    "\n",
    "To see how well our model is doing, we'll calculate the RMSE and then compare our results to others on the [Zindi leaderboard](https://zindi.africa/competitions/cryptocurrency-closing-price-prediction/leaderboard).\n",
    "\n",
    "## 4. Features\n",
    "\n",
    "For this dataset, Zindi provided a [data dictionary](https://zindi.africa/competitions/cryptocurrency-closing-price-prediction/data)  which contains information about what each attribute of the dataset means. \n",
    "\n",
    "The target value is the closing price. We have data extracted in an interval of 1h for a period of one year (from 1st of March 2020 to 1st of March 2021)."
   ]
  },
  {
   "cell_type": "markdown",
   "metadata": {},
   "source": [
    "## EDA"
   ]
  },
  {
   "cell_type": "markdown",
   "metadata": {},
   "source": [
    "### Importing libraries"
   ]
  },
  {
   "cell_type": "code",
   "execution_count": 39,
   "metadata": {
    "id": "YBArGtJwFzwO"
   },
   "outputs": [],
   "source": [
    "import pandas as pd\n",
    "import numpy as np\n",
    "import matplotlib.pyplot as plt\n",
    "from sklearn.model_selection import train_test_split\n",
    "import seaborn as sns\n",
    "\n",
    "from tqdm import tqdm\n",
    "from tqdm import tqdm_notebook\n",
    "from sklearn.model_selection import KFold, cross_val_score\n",
    "from sklearn.ensemble import RandomForestRegressor, GradientBoostingRegressor, AdaBoostRegressor\n",
    "from sklearn.tree import DecisionTreeRegressor\n",
    "from sklearn.svm import SVR\n",
    "from sklearn.neighbors import KNeighborsRegressor\n",
    "# from xgboost import XGBRegressor\n",
    "from sklearn.linear_model import LinearRegression\n",
    "from sklearn.metrics import mean_squared_error\n",
    "import warnings\n",
    "warnings.filterwarnings('ignore')\n",
    "from sklearn.model_selection import GridSearchCV, KFold, cross_val_score\n",
    "from sklearn.preprocessing import LabelEncoder\n",
    "from sklearn.metrics import mean_squared_error\n",
    "from sklearn.model_selection import KFold, train_test_split\n",
    "from sklearn.linear_model import LinearRegression, Lasso, Ridge, ElasticNet\n",
    "import seaborn as sns\n",
    "import warnings\n",
    "warnings.filterwarnings('ignore')\n",
    "from math import sqrt \n",
    "\n",
    "from sklearn.metrics import mean_squared_error \n",
    "import gc\n",
    "#import featuretools as ft\n",
    "%matplotlib inline"
   ]
  },
  {
   "cell_type": "markdown",
   "metadata": {},
   "source": [
    "### Loading datasets"
   ]
  },
  {
   "cell_type": "code",
   "execution_count": 5,
   "metadata": {
    "id": "A1Nlsw9lGHTB"
   },
   "outputs": [],
   "source": [
    "train = pd.read_csv('Train.csv')\n",
    "test = pd.read_csv('Test.csv')\n",
    "ss = pd.read_csv('SampleSubmission.csv')"
   ]
  },
  {
   "cell_type": "markdown",
   "metadata": {},
   "source": [
    "### Exploring the data"
   ]
  },
  {
   "cell_type": "code",
   "execution_count": 6,
   "metadata": {
    "colab": {
     "base_uri": "https://localhost:8080/"
    },
    "id": "a7Jni6DMGVKd",
    "outputId": "7692dde0-9048-47e3-8741-8f091e74e4c2"
   },
   "outputs": [
    {
     "data": {
      "text/plain": [
       "((12632, 49), (6222, 48), (6222, 2))"
      ]
     },
     "execution_count": 6,
     "metadata": {},
     "output_type": "execute_result"
    }
   ],
   "source": [
    "train.shape, test.shape, ss.shape"
   ]
  },
  {
   "cell_type": "code",
   "execution_count": 7,
   "metadata": {},
   "outputs": [
    {
     "data": {
      "text/html": [
       "<div>\n",
       "<style scoped>\n",
       "    .dataframe tbody tr th:only-of-type {\n",
       "        vertical-align: middle;\n",
       "    }\n",
       "\n",
       "    .dataframe tbody tr th {\n",
       "        vertical-align: top;\n",
       "    }\n",
       "\n",
       "    .dataframe thead th {\n",
       "        text-align: right;\n",
       "    }\n",
       "</style>\n",
       "<table border=\"1\" class=\"dataframe\">\n",
       "  <thead>\n",
       "    <tr style=\"text-align: right;\">\n",
       "      <th></th>\n",
       "      <th>asset_id</th>\n",
       "      <th>open</th>\n",
       "      <th>high</th>\n",
       "      <th>low</th>\n",
       "      <th>volume</th>\n",
       "      <th>market_cap</th>\n",
       "      <th>url_shares</th>\n",
       "      <th>unique_url_shares</th>\n",
       "      <th>reddit_posts</th>\n",
       "      <th>reddit_posts_score</th>\n",
       "      <th>...</th>\n",
       "      <th>percent_change_24h_rank</th>\n",
       "      <th>volume_24h_rank</th>\n",
       "      <th>social_volume_24h_rank</th>\n",
       "      <th>social_score_24h_rank</th>\n",
       "      <th>medium</th>\n",
       "      <th>youtube</th>\n",
       "      <th>social_volume</th>\n",
       "      <th>percent_change_24h</th>\n",
       "      <th>market_cap_global</th>\n",
       "      <th>close</th>\n",
       "    </tr>\n",
       "  </thead>\n",
       "  <tbody>\n",
       "    <tr>\n",
       "      <th>count</th>\n",
       "      <td>12632.0</td>\n",
       "      <td>8617.000000</td>\n",
       "      <td>8617.000000</td>\n",
       "      <td>8617.000000</td>\n",
       "      <td>8.605000e+03</td>\n",
       "      <td>8.379000e+03</td>\n",
       "      <td>8575.000000</td>\n",
       "      <td>8575.000000</td>\n",
       "      <td>12391.000000</td>\n",
       "      <td>12391.000000</td>\n",
       "      <td>...</td>\n",
       "      <td>8107.000000</td>\n",
       "      <td>8107.000000</td>\n",
       "      <td>8107.000000</td>\n",
       "      <td>8107.000000</td>\n",
       "      <td>2950.000000</td>\n",
       "      <td>4786.000000</td>\n",
       "      <td>12632.000000</td>\n",
       "      <td>8313.000000</td>\n",
       "      <td>8.351000e+03</td>\n",
       "      <td>8617.000000</td>\n",
       "    </tr>\n",
       "    <tr>\n",
       "      <th>mean</th>\n",
       "      <td>1.0</td>\n",
       "      <td>15504.816128</td>\n",
       "      <td>15559.484568</td>\n",
       "      <td>15449.591187</td>\n",
       "      <td>1.300724e+09</td>\n",
       "      <td>2.826010e+11</td>\n",
       "      <td>1247.310437</td>\n",
       "      <td>757.862857</td>\n",
       "      <td>36.527722</td>\n",
       "      <td>323.989831</td>\n",
       "      <td>...</td>\n",
       "      <td>809.518811</td>\n",
       "      <td>2.128037</td>\n",
       "      <td>1.018749</td>\n",
       "      <td>1.005921</td>\n",
       "      <td>1.349492</td>\n",
       "      <td>3.138947</td>\n",
       "      <td>3920.713268</td>\n",
       "      <td>0.375253</td>\n",
       "      <td>4.616824e+11</td>\n",
       "      <td>15507.395867</td>\n",
       "    </tr>\n",
       "    <tr>\n",
       "      <th>std</th>\n",
       "      <td>0.0</td>\n",
       "      <td>14105.710063</td>\n",
       "      <td>14191.106378</td>\n",
       "      <td>14022.651911</td>\n",
       "      <td>1.711922e+09</td>\n",
       "      <td>2.663052e+11</td>\n",
       "      <td>593.108269</td>\n",
       "      <td>303.627395</td>\n",
       "      <td>31.610276</td>\n",
       "      <td>677.419559</td>\n",
       "      <td>...</td>\n",
       "      <td>225.420505</td>\n",
       "      <td>0.432902</td>\n",
       "      <td>0.135646</td>\n",
       "      <td>0.076723</td>\n",
       "      <td>0.868552</td>\n",
       "      <td>5.470365</td>\n",
       "      <td>4824.053810</td>\n",
       "      <td>3.745955</td>\n",
       "      <td>4.597152e+11</td>\n",
       "      <td>14112.405285</td>\n",
       "    </tr>\n",
       "    <tr>\n",
       "      <th>min</th>\n",
       "      <td>1.0</td>\n",
       "      <td>4545.087790</td>\n",
       "      <td>4589.712024</td>\n",
       "      <td>4267.292258</td>\n",
       "      <td>2.373622e+08</td>\n",
       "      <td>8.393765e+10</td>\n",
       "      <td>2.000000</td>\n",
       "      <td>2.000000</td>\n",
       "      <td>1.000000</td>\n",
       "      <td>0.000000</td>\n",
       "      <td>...</td>\n",
       "      <td>124.000000</td>\n",
       "      <td>1.000000</td>\n",
       "      <td>1.000000</td>\n",
       "      <td>1.000000</td>\n",
       "      <td>1.000000</td>\n",
       "      <td>1.000000</td>\n",
       "      <td>1.000000</td>\n",
       "      <td>-44.690403</td>\n",
       "      <td>1.223398e+11</td>\n",
       "      <td>4267.292258</td>\n",
       "    </tr>\n",
       "    <tr>\n",
       "      <th>25%</th>\n",
       "      <td>1.0</td>\n",
       "      <td>8405.552062</td>\n",
       "      <td>8437.391908</td>\n",
       "      <td>8378.513061</td>\n",
       "      <td>6.196589e+08</td>\n",
       "      <td>1.506098e+11</td>\n",
       "      <td>857.000000</td>\n",
       "      <td>559.000000</td>\n",
       "      <td>13.000000</td>\n",
       "      <td>79.000000</td>\n",
       "      <td>...</td>\n",
       "      <td>661.000000</td>\n",
       "      <td>2.000000</td>\n",
       "      <td>1.000000</td>\n",
       "      <td>1.000000</td>\n",
       "      <td>1.000000</td>\n",
       "      <td>1.000000</td>\n",
       "      <td>243.000000</td>\n",
       "      <td>-1.252658</td>\n",
       "      <td>2.265741e+11</td>\n",
       "      <td>8402.681367</td>\n",
       "    </tr>\n",
       "    <tr>\n",
       "      <th>50%</th>\n",
       "      <td>1.0</td>\n",
       "      <td>9671.831848</td>\n",
       "      <td>9689.751652</td>\n",
       "      <td>9648.410207</td>\n",
       "      <td>9.820621e+08</td>\n",
       "      <td>1.755833e+11</td>\n",
       "      <td>1124.000000</td>\n",
       "      <td>703.000000</td>\n",
       "      <td>28.000000</td>\n",
       "      <td>156.000000</td>\n",
       "      <td>...</td>\n",
       "      <td>819.000000</td>\n",
       "      <td>2.000000</td>\n",
       "      <td>1.000000</td>\n",
       "      <td>1.000000</td>\n",
       "      <td>1.000000</td>\n",
       "      <td>2.000000</td>\n",
       "      <td>3334.000000</td>\n",
       "      <td>0.240354</td>\n",
       "      <td>2.716129e+11</td>\n",
       "      <td>9667.590065</td>\n",
       "    </tr>\n",
       "    <tr>\n",
       "      <th>75%</th>\n",
       "      <td>1.0</td>\n",
       "      <td>13077.201438</td>\n",
       "      <td>13089.839678</td>\n",
       "      <td>13047.114786</td>\n",
       "      <td>1.611974e+09</td>\n",
       "      <td>2.191438e+11</td>\n",
       "      <td>1507.500000</td>\n",
       "      <td>893.000000</td>\n",
       "      <td>50.000000</td>\n",
       "      <td>328.000000</td>\n",
       "      <td>...</td>\n",
       "      <td>970.000000</td>\n",
       "      <td>2.000000</td>\n",
       "      <td>1.000000</td>\n",
       "      <td>1.000000</td>\n",
       "      <td>1.000000</td>\n",
       "      <td>3.000000</td>\n",
       "      <td>5178.000000</td>\n",
       "      <td>1.867715</td>\n",
       "      <td>3.788975e+11</td>\n",
       "      <td>13066.731701</td>\n",
       "    </tr>\n",
       "    <tr>\n",
       "      <th>max</th>\n",
       "      <td>1.0</td>\n",
       "      <td>61408.929761</td>\n",
       "      <td>61507.371480</td>\n",
       "      <td>61073.192884</td>\n",
       "      <td>5.185678e+10</td>\n",
       "      <td>1.140905e+12</td>\n",
       "      <td>10107.000000</td>\n",
       "      <td>4880.000000</td>\n",
       "      <td>500.000000</td>\n",
       "      <td>30559.000000</td>\n",
       "      <td>...</td>\n",
       "      <td>1490.000000</td>\n",
       "      <td>10.000000</td>\n",
       "      <td>2.000000</td>\n",
       "      <td>2.000000</td>\n",
       "      <td>12.000000</td>\n",
       "      <td>178.000000</td>\n",
       "      <td>140431.000000</td>\n",
       "      <td>34.932303</td>\n",
       "      <td>2.062215e+12</td>\n",
       "      <td>61259.670876</td>\n",
       "    </tr>\n",
       "  </tbody>\n",
       "</table>\n",
       "<p>8 rows × 48 columns</p>\n",
       "</div>"
      ],
      "text/plain": [
       "       asset_id          open          high           low        volume  \\\n",
       "count   12632.0   8617.000000   8617.000000   8617.000000  8.605000e+03   \n",
       "mean        1.0  15504.816128  15559.484568  15449.591187  1.300724e+09   \n",
       "std         0.0  14105.710063  14191.106378  14022.651911  1.711922e+09   \n",
       "min         1.0   4545.087790   4589.712024   4267.292258  2.373622e+08   \n",
       "25%         1.0   8405.552062   8437.391908   8378.513061  6.196589e+08   \n",
       "50%         1.0   9671.831848   9689.751652   9648.410207  9.820621e+08   \n",
       "75%         1.0  13077.201438  13089.839678  13047.114786  1.611974e+09   \n",
       "max         1.0  61408.929761  61507.371480  61073.192884  5.185678e+10   \n",
       "\n",
       "         market_cap    url_shares  unique_url_shares  reddit_posts  \\\n",
       "count  8.379000e+03   8575.000000        8575.000000  12391.000000   \n",
       "mean   2.826010e+11   1247.310437         757.862857     36.527722   \n",
       "std    2.663052e+11    593.108269         303.627395     31.610276   \n",
       "min    8.393765e+10      2.000000           2.000000      1.000000   \n",
       "25%    1.506098e+11    857.000000         559.000000     13.000000   \n",
       "50%    1.755833e+11   1124.000000         703.000000     28.000000   \n",
       "75%    2.191438e+11   1507.500000         893.000000     50.000000   \n",
       "max    1.140905e+12  10107.000000        4880.000000    500.000000   \n",
       "\n",
       "       reddit_posts_score  ...  percent_change_24h_rank  volume_24h_rank  \\\n",
       "count        12391.000000  ...              8107.000000      8107.000000   \n",
       "mean           323.989831  ...               809.518811         2.128037   \n",
       "std            677.419559  ...               225.420505         0.432902   \n",
       "min              0.000000  ...               124.000000         1.000000   \n",
       "25%             79.000000  ...               661.000000         2.000000   \n",
       "50%            156.000000  ...               819.000000         2.000000   \n",
       "75%            328.000000  ...               970.000000         2.000000   \n",
       "max          30559.000000  ...              1490.000000        10.000000   \n",
       "\n",
       "       social_volume_24h_rank  social_score_24h_rank       medium  \\\n",
       "count             8107.000000            8107.000000  2950.000000   \n",
       "mean                 1.018749               1.005921     1.349492   \n",
       "std                  0.135646               0.076723     0.868552   \n",
       "min                  1.000000               1.000000     1.000000   \n",
       "25%                  1.000000               1.000000     1.000000   \n",
       "50%                  1.000000               1.000000     1.000000   \n",
       "75%                  1.000000               1.000000     1.000000   \n",
       "max                  2.000000               2.000000    12.000000   \n",
       "\n",
       "           youtube  social_volume  percent_change_24h  market_cap_global  \\\n",
       "count  4786.000000   12632.000000         8313.000000       8.351000e+03   \n",
       "mean      3.138947    3920.713268            0.375253       4.616824e+11   \n",
       "std       5.470365    4824.053810            3.745955       4.597152e+11   \n",
       "min       1.000000       1.000000          -44.690403       1.223398e+11   \n",
       "25%       1.000000     243.000000           -1.252658       2.265741e+11   \n",
       "50%       2.000000    3334.000000            0.240354       2.716129e+11   \n",
       "75%       3.000000    5178.000000            1.867715       3.788975e+11   \n",
       "max     178.000000  140431.000000           34.932303       2.062215e+12   \n",
       "\n",
       "              close  \n",
       "count   8617.000000  \n",
       "mean   15507.395867  \n",
       "std    14112.405285  \n",
       "min     4267.292258  \n",
       "25%     8402.681367  \n",
       "50%     9667.590065  \n",
       "75%    13066.731701  \n",
       "max    61259.670876  \n",
       "\n",
       "[8 rows x 48 columns]"
      ]
     },
     "execution_count": 7,
     "metadata": {},
     "output_type": "execute_result"
    }
   ],
   "source": [
    "train.describe()"
   ]
  },
  {
   "cell_type": "code",
   "execution_count": 8,
   "metadata": {
    "colab": {
     "base_uri": "https://localhost:8080/",
     "height": 224
    },
    "id": "LRHncK2pHSmR",
    "outputId": "34a61eeb-c796-4468-dfd7-0b81f463960d",
    "scrolled": true
   },
   "outputs": [
    {
     "data": {
      "text/html": [
       "<div>\n",
       "<style scoped>\n",
       "    .dataframe tbody tr th:only-of-type {\n",
       "        vertical-align: middle;\n",
       "    }\n",
       "\n",
       "    .dataframe tbody tr th {\n",
       "        vertical-align: top;\n",
       "    }\n",
       "\n",
       "    .dataframe thead th {\n",
       "        text-align: right;\n",
       "    }\n",
       "</style>\n",
       "<table border=\"1\" class=\"dataframe\">\n",
       "  <thead>\n",
       "    <tr style=\"text-align: right;\">\n",
       "      <th></th>\n",
       "      <th>id</th>\n",
       "      <th>asset_id</th>\n",
       "      <th>open</th>\n",
       "      <th>high</th>\n",
       "      <th>low</th>\n",
       "      <th>volume</th>\n",
       "      <th>market_cap</th>\n",
       "      <th>url_shares</th>\n",
       "      <th>unique_url_shares</th>\n",
       "      <th>reddit_posts</th>\n",
       "      <th>...</th>\n",
       "      <th>percent_change_24h_rank</th>\n",
       "      <th>volume_24h_rank</th>\n",
       "      <th>social_volume_24h_rank</th>\n",
       "      <th>social_score_24h_rank</th>\n",
       "      <th>medium</th>\n",
       "      <th>youtube</th>\n",
       "      <th>social_volume</th>\n",
       "      <th>percent_change_24h</th>\n",
       "      <th>market_cap_global</th>\n",
       "      <th>close</th>\n",
       "    </tr>\n",
       "  </thead>\n",
       "  <tbody>\n",
       "    <tr>\n",
       "      <th>0</th>\n",
       "      <td>ID_322qz6</td>\n",
       "      <td>1</td>\n",
       "      <td>9422.849081</td>\n",
       "      <td>9428.490628</td>\n",
       "      <td>9422.849081</td>\n",
       "      <td>7.131986e+08</td>\n",
       "      <td>1.737635e+11</td>\n",
       "      <td>1689.0</td>\n",
       "      <td>817.0</td>\n",
       "      <td>55.0</td>\n",
       "      <td>...</td>\n",
       "      <td>606.0</td>\n",
       "      <td>2.0</td>\n",
       "      <td>1.0</td>\n",
       "      <td>1.0</td>\n",
       "      <td>2.0</td>\n",
       "      <td>5.0</td>\n",
       "      <td>4422</td>\n",
       "      <td>1.434516</td>\n",
       "      <td>2.818066e+11</td>\n",
       "      <td>9428.279323</td>\n",
       "    </tr>\n",
       "    <tr>\n",
       "      <th>1</th>\n",
       "      <td>ID_3239o9</td>\n",
       "      <td>1</td>\n",
       "      <td>7985.359278</td>\n",
       "      <td>7992.059917</td>\n",
       "      <td>7967.567267</td>\n",
       "      <td>4.004755e+08</td>\n",
       "      <td>1.426942e+11</td>\n",
       "      <td>920.0</td>\n",
       "      <td>544.0</td>\n",
       "      <td>20.0</td>\n",
       "      <td>...</td>\n",
       "      <td>NaN</td>\n",
       "      <td>NaN</td>\n",
       "      <td>NaN</td>\n",
       "      <td>NaN</td>\n",
       "      <td>NaN</td>\n",
       "      <td>NaN</td>\n",
       "      <td>2159</td>\n",
       "      <td>-2.459507</td>\n",
       "      <td>2.126897e+11</td>\n",
       "      <td>7967.567267</td>\n",
       "    </tr>\n",
       "    <tr>\n",
       "      <th>2</th>\n",
       "      <td>ID_323J9k</td>\n",
       "      <td>1</td>\n",
       "      <td>49202.033778</td>\n",
       "      <td>49394.593518</td>\n",
       "      <td>49068.057046</td>\n",
       "      <td>3.017729e+09</td>\n",
       "      <td>9.166977e+11</td>\n",
       "      <td>1446.0</td>\n",
       "      <td>975.0</td>\n",
       "      <td>72.0</td>\n",
       "      <td>...</td>\n",
       "      <td>692.0</td>\n",
       "      <td>3.0</td>\n",
       "      <td>1.0</td>\n",
       "      <td>1.0</td>\n",
       "      <td>NaN</td>\n",
       "      <td>NaN</td>\n",
       "      <td>10602</td>\n",
       "      <td>4.942448</td>\n",
       "      <td>1.530712e+12</td>\n",
       "      <td>49120.738484</td>\n",
       "    </tr>\n",
       "    <tr>\n",
       "      <th>3</th>\n",
       "      <td>ID_323y5P</td>\n",
       "      <td>1</td>\n",
       "      <td>NaN</td>\n",
       "      <td>NaN</td>\n",
       "      <td>NaN</td>\n",
       "      <td>NaN</td>\n",
       "      <td>NaN</td>\n",
       "      <td>NaN</td>\n",
       "      <td>NaN</td>\n",
       "      <td>17.0</td>\n",
       "      <td>...</td>\n",
       "      <td>NaN</td>\n",
       "      <td>NaN</td>\n",
       "      <td>NaN</td>\n",
       "      <td>NaN</td>\n",
       "      <td>NaN</td>\n",
       "      <td>NaN</td>\n",
       "      <td>285</td>\n",
       "      <td>NaN</td>\n",
       "      <td>NaN</td>\n",
       "      <td>NaN</td>\n",
       "    </tr>\n",
       "    <tr>\n",
       "      <th>4</th>\n",
       "      <td>ID_324kJH</td>\n",
       "      <td>1</td>\n",
       "      <td>10535.737119</td>\n",
       "      <td>10535.737119</td>\n",
       "      <td>10384.798216</td>\n",
       "      <td>1.150053e+09</td>\n",
       "      <td>1.921183e+11</td>\n",
       "      <td>1012.0</td>\n",
       "      <td>638.0</td>\n",
       "      <td>24.0</td>\n",
       "      <td>...</td>\n",
       "      <td>749.0</td>\n",
       "      <td>2.0</td>\n",
       "      <td>1.0</td>\n",
       "      <td>1.0</td>\n",
       "      <td>NaN</td>\n",
       "      <td>2.0</td>\n",
       "      <td>3996</td>\n",
       "      <td>2.609576</td>\n",
       "      <td>3.386925e+11</td>\n",
       "      <td>10384.798216</td>\n",
       "    </tr>\n",
       "  </tbody>\n",
       "</table>\n",
       "<p>5 rows × 49 columns</p>\n",
       "</div>"
      ],
      "text/plain": [
       "          id  asset_id          open          high           low  \\\n",
       "0  ID_322qz6         1   9422.849081   9428.490628   9422.849081   \n",
       "1  ID_3239o9         1   7985.359278   7992.059917   7967.567267   \n",
       "2  ID_323J9k         1  49202.033778  49394.593518  49068.057046   \n",
       "3  ID_323y5P         1           NaN           NaN           NaN   \n",
       "4  ID_324kJH         1  10535.737119  10535.737119  10384.798216   \n",
       "\n",
       "         volume    market_cap  url_shares  unique_url_shares  reddit_posts  \\\n",
       "0  7.131986e+08  1.737635e+11      1689.0              817.0          55.0   \n",
       "1  4.004755e+08  1.426942e+11       920.0              544.0          20.0   \n",
       "2  3.017729e+09  9.166977e+11      1446.0              975.0          72.0   \n",
       "3           NaN           NaN         NaN                NaN          17.0   \n",
       "4  1.150053e+09  1.921183e+11      1012.0              638.0          24.0   \n",
       "\n",
       "   ...  percent_change_24h_rank  volume_24h_rank  social_volume_24h_rank  \\\n",
       "0  ...                    606.0              2.0                     1.0   \n",
       "1  ...                      NaN              NaN                     NaN   \n",
       "2  ...                    692.0              3.0                     1.0   \n",
       "3  ...                      NaN              NaN                     NaN   \n",
       "4  ...                    749.0              2.0                     1.0   \n",
       "\n",
       "   social_score_24h_rank  medium  youtube  social_volume  percent_change_24h  \\\n",
       "0                    1.0     2.0      5.0           4422            1.434516   \n",
       "1                    NaN     NaN      NaN           2159           -2.459507   \n",
       "2                    1.0     NaN      NaN          10602            4.942448   \n",
       "3                    NaN     NaN      NaN            285                 NaN   \n",
       "4                    1.0     NaN      2.0           3996            2.609576   \n",
       "\n",
       "   market_cap_global         close  \n",
       "0       2.818066e+11   9428.279323  \n",
       "1       2.126897e+11   7967.567267  \n",
       "2       1.530712e+12  49120.738484  \n",
       "3                NaN           NaN  \n",
       "4       3.386925e+11  10384.798216  \n",
       "\n",
       "[5 rows x 49 columns]"
      ]
     },
     "execution_count": 8,
     "metadata": {},
     "output_type": "execute_result"
    }
   ],
   "source": [
    "train.head()"
   ]
  },
  {
   "cell_type": "code",
   "execution_count": 9,
   "metadata": {
    "colab": {
     "base_uri": "https://localhost:8080/",
     "height": 224
    },
    "id": "7miwQ34Jcpbz",
    "outputId": "a7c4f474-e0a2-4a31-b789-6d1f43eca16f"
   },
   "outputs": [
    {
     "data": {
      "text/html": [
       "<div>\n",
       "<style scoped>\n",
       "    .dataframe tbody tr th:only-of-type {\n",
       "        vertical-align: middle;\n",
       "    }\n",
       "\n",
       "    .dataframe tbody tr th {\n",
       "        vertical-align: top;\n",
       "    }\n",
       "\n",
       "    .dataframe thead th {\n",
       "        text-align: right;\n",
       "    }\n",
       "</style>\n",
       "<table border=\"1\" class=\"dataframe\">\n",
       "  <thead>\n",
       "    <tr style=\"text-align: right;\">\n",
       "      <th></th>\n",
       "      <th>id</th>\n",
       "      <th>asset_id</th>\n",
       "      <th>open</th>\n",
       "      <th>high</th>\n",
       "      <th>low</th>\n",
       "      <th>volume</th>\n",
       "      <th>market_cap</th>\n",
       "      <th>url_shares</th>\n",
       "      <th>unique_url_shares</th>\n",
       "      <th>reddit_posts</th>\n",
       "      <th>...</th>\n",
       "      <th>market_cap_rank</th>\n",
       "      <th>percent_change_24h_rank</th>\n",
       "      <th>volume_24h_rank</th>\n",
       "      <th>social_volume_24h_rank</th>\n",
       "      <th>social_score_24h_rank</th>\n",
       "      <th>medium</th>\n",
       "      <th>youtube</th>\n",
       "      <th>social_volume</th>\n",
       "      <th>percent_change_24h</th>\n",
       "      <th>market_cap_global</th>\n",
       "    </tr>\n",
       "  </thead>\n",
       "  <tbody>\n",
       "    <tr>\n",
       "      <th>0</th>\n",
       "      <td>ID_323Sn2</td>\n",
       "      <td>1</td>\n",
       "      <td>NaN</td>\n",
       "      <td>NaN</td>\n",
       "      <td>NaN</td>\n",
       "      <td>NaN</td>\n",
       "      <td>NaN</td>\n",
       "      <td>NaN</td>\n",
       "      <td>NaN</td>\n",
       "      <td>7.0</td>\n",
       "      <td>...</td>\n",
       "      <td>NaN</td>\n",
       "      <td>NaN</td>\n",
       "      <td>NaN</td>\n",
       "      <td>NaN</td>\n",
       "      <td>NaN</td>\n",
       "      <td>NaN</td>\n",
       "      <td>NaN</td>\n",
       "      <td>9</td>\n",
       "      <td>NaN</td>\n",
       "      <td>NaN</td>\n",
       "    </tr>\n",
       "    <tr>\n",
       "      <th>1</th>\n",
       "      <td>ID_325SNW</td>\n",
       "      <td>1</td>\n",
       "      <td>11335.062190</td>\n",
       "      <td>11351.690960</td>\n",
       "      <td>11335.062190</td>\n",
       "      <td>1.064152e+09</td>\n",
       "      <td>2.101460e+11</td>\n",
       "      <td>1664.0</td>\n",
       "      <td>1045.0</td>\n",
       "      <td>64.0</td>\n",
       "      <td>...</td>\n",
       "      <td>1.0</td>\n",
       "      <td>711.0</td>\n",
       "      <td>2.0</td>\n",
       "      <td>1.0</td>\n",
       "      <td>1.0</td>\n",
       "      <td>1.0</td>\n",
       "      <td>1.0</td>\n",
       "      <td>7245</td>\n",
       "      <td>-0.555698</td>\n",
       "      <td>3.631050e+11</td>\n",
       "    </tr>\n",
       "    <tr>\n",
       "      <th>2</th>\n",
       "      <td>ID_325uzE</td>\n",
       "      <td>1</td>\n",
       "      <td>6322.560756</td>\n",
       "      <td>6328.362354</td>\n",
       "      <td>6294.714484</td>\n",
       "      <td>1.516268e+09</td>\n",
       "      <td>1.153860e+11</td>\n",
       "      <td>397.0</td>\n",
       "      <td>255.0</td>\n",
       "      <td>11.0</td>\n",
       "      <td>...</td>\n",
       "      <td>1.0</td>\n",
       "      <td>715.0</td>\n",
       "      <td>2.0</td>\n",
       "      <td>1.0</td>\n",
       "      <td>1.0</td>\n",
       "      <td>NaN</td>\n",
       "      <td>NaN</td>\n",
       "      <td>2702</td>\n",
       "      <td>1.689370</td>\n",
       "      <td>1.771070e+11</td>\n",
       "    </tr>\n",
       "    <tr>\n",
       "      <th>3</th>\n",
       "      <td>ID_328qCx</td>\n",
       "      <td>1</td>\n",
       "      <td>NaN</td>\n",
       "      <td>NaN</td>\n",
       "      <td>NaN</td>\n",
       "      <td>NaN</td>\n",
       "      <td>NaN</td>\n",
       "      <td>NaN</td>\n",
       "      <td>NaN</td>\n",
       "      <td>8.0</td>\n",
       "      <td>...</td>\n",
       "      <td>NaN</td>\n",
       "      <td>NaN</td>\n",
       "      <td>NaN</td>\n",
       "      <td>NaN</td>\n",
       "      <td>NaN</td>\n",
       "      <td>NaN</td>\n",
       "      <td>NaN</td>\n",
       "      <td>225</td>\n",
       "      <td>NaN</td>\n",
       "      <td>NaN</td>\n",
       "    </tr>\n",
       "    <tr>\n",
       "      <th>4</th>\n",
       "      <td>ID_3293uJ</td>\n",
       "      <td>1</td>\n",
       "      <td>NaN</td>\n",
       "      <td>NaN</td>\n",
       "      <td>NaN</td>\n",
       "      <td>NaN</td>\n",
       "      <td>NaN</td>\n",
       "      <td>NaN</td>\n",
       "      <td>NaN</td>\n",
       "      <td>26.0</td>\n",
       "      <td>...</td>\n",
       "      <td>NaN</td>\n",
       "      <td>NaN</td>\n",
       "      <td>NaN</td>\n",
       "      <td>NaN</td>\n",
       "      <td>NaN</td>\n",
       "      <td>NaN</td>\n",
       "      <td>NaN</td>\n",
       "      <td>59</td>\n",
       "      <td>NaN</td>\n",
       "      <td>NaN</td>\n",
       "    </tr>\n",
       "  </tbody>\n",
       "</table>\n",
       "<p>5 rows × 48 columns</p>\n",
       "</div>"
      ],
      "text/plain": [
       "          id  asset_id          open          high           low  \\\n",
       "0  ID_323Sn2         1           NaN           NaN           NaN   \n",
       "1  ID_325SNW         1  11335.062190  11351.690960  11335.062190   \n",
       "2  ID_325uzE         1   6322.560756   6328.362354   6294.714484   \n",
       "3  ID_328qCx         1           NaN           NaN           NaN   \n",
       "4  ID_3293uJ         1           NaN           NaN           NaN   \n",
       "\n",
       "         volume    market_cap  url_shares  unique_url_shares  reddit_posts  \\\n",
       "0           NaN           NaN         NaN                NaN           7.0   \n",
       "1  1.064152e+09  2.101460e+11      1664.0             1045.0          64.0   \n",
       "2  1.516268e+09  1.153860e+11       397.0              255.0          11.0   \n",
       "3           NaN           NaN         NaN                NaN           8.0   \n",
       "4           NaN           NaN         NaN                NaN          26.0   \n",
       "\n",
       "   ...  market_cap_rank  percent_change_24h_rank  volume_24h_rank  \\\n",
       "0  ...              NaN                      NaN              NaN   \n",
       "1  ...              1.0                    711.0              2.0   \n",
       "2  ...              1.0                    715.0              2.0   \n",
       "3  ...              NaN                      NaN              NaN   \n",
       "4  ...              NaN                      NaN              NaN   \n",
       "\n",
       "   social_volume_24h_rank  social_score_24h_rank  medium  youtube  \\\n",
       "0                     NaN                    NaN     NaN      NaN   \n",
       "1                     1.0                    1.0     1.0      1.0   \n",
       "2                     1.0                    1.0     NaN      NaN   \n",
       "3                     NaN                    NaN     NaN      NaN   \n",
       "4                     NaN                    NaN     NaN      NaN   \n",
       "\n",
       "   social_volume  percent_change_24h  market_cap_global  \n",
       "0              9                 NaN                NaN  \n",
       "1           7245           -0.555698       3.631050e+11  \n",
       "2           2702            1.689370       1.771070e+11  \n",
       "3            225                 NaN                NaN  \n",
       "4             59                 NaN                NaN  \n",
       "\n",
       "[5 rows x 48 columns]"
      ]
     },
     "execution_count": 9,
     "metadata": {},
     "output_type": "execute_result"
    }
   ],
   "source": [
    "test.head()"
   ]
  },
  {
   "cell_type": "code",
   "execution_count": 10,
   "metadata": {
    "colab": {
     "base_uri": "https://localhost:8080/",
     "height": 204
    },
    "id": "T4tqzRGccpnU",
    "outputId": "7a55f88f-e838-4f02-bbfd-7b915227cfbe"
   },
   "outputs": [
    {
     "data": {
      "text/html": [
       "<div>\n",
       "<style scoped>\n",
       "    .dataframe tbody tr th:only-of-type {\n",
       "        vertical-align: middle;\n",
       "    }\n",
       "\n",
       "    .dataframe tbody tr th {\n",
       "        vertical-align: top;\n",
       "    }\n",
       "\n",
       "    .dataframe thead th {\n",
       "        text-align: right;\n",
       "    }\n",
       "</style>\n",
       "<table border=\"1\" class=\"dataframe\">\n",
       "  <thead>\n",
       "    <tr style=\"text-align: right;\">\n",
       "      <th></th>\n",
       "      <th>id</th>\n",
       "      <th>close</th>\n",
       "    </tr>\n",
       "  </thead>\n",
       "  <tbody>\n",
       "    <tr>\n",
       "      <th>0</th>\n",
       "      <td>ID_323Sn2</td>\n",
       "      <td>0.000000</td>\n",
       "    </tr>\n",
       "    <tr>\n",
       "      <th>1</th>\n",
       "      <td>ID_325SNW</td>\n",
       "      <td>6397.465467</td>\n",
       "    </tr>\n",
       "    <tr>\n",
       "      <th>2</th>\n",
       "      <td>ID_325uzE</td>\n",
       "      <td>12539.847290</td>\n",
       "    </tr>\n",
       "    <tr>\n",
       "      <th>3</th>\n",
       "      <td>ID_328qCx</td>\n",
       "      <td>0.000000</td>\n",
       "    </tr>\n",
       "    <tr>\n",
       "      <th>4</th>\n",
       "      <td>ID_3293uJ</td>\n",
       "      <td>0.000000</td>\n",
       "    </tr>\n",
       "  </tbody>\n",
       "</table>\n",
       "</div>"
      ],
      "text/plain": [
       "          id         close\n",
       "0  ID_323Sn2      0.000000\n",
       "1  ID_325SNW   6397.465467\n",
       "2  ID_325uzE  12539.847290\n",
       "3  ID_328qCx      0.000000\n",
       "4  ID_3293uJ      0.000000"
      ]
     },
     "execution_count": 10,
     "metadata": {},
     "output_type": "execute_result"
    }
   ],
   "source": [
    "ss.head()"
   ]
  },
  {
   "cell_type": "code",
   "execution_count": 11,
   "metadata": {},
   "outputs": [
    {
     "name": "stdout",
     "output_type": "stream",
     "text": [
      "<class 'pandas.core.frame.DataFrame'>\n",
      "RangeIndex: 12632 entries, 0 to 12631\n",
      "Data columns (total 49 columns):\n",
      " #   Column                   Non-Null Count  Dtype  \n",
      "---  ------                   --------------  -----  \n",
      " 0   id                       12632 non-null  object \n",
      " 1   asset_id                 12632 non-null  int64  \n",
      " 2   open                     8617 non-null   float64\n",
      " 3   high                     8617 non-null   float64\n",
      " 4   low                      8617 non-null   float64\n",
      " 5   volume                   8605 non-null   float64\n",
      " 6   market_cap               8379 non-null   float64\n",
      " 7   url_shares               8575 non-null   float64\n",
      " 8   unique_url_shares        8575 non-null   float64\n",
      " 9   reddit_posts             12391 non-null  float64\n",
      " 10  reddit_posts_score       12391 non-null  float64\n",
      " 11  reddit_comments          12402 non-null  float64\n",
      " 12  reddit_comments_score    12402 non-null  float64\n",
      " 13  tweets                   8584 non-null   float64\n",
      " 14  tweet_spam               8584 non-null   float64\n",
      " 15  tweet_followers          8574 non-null   float64\n",
      " 16  tweet_quotes             8574 non-null   float64\n",
      " 17  tweet_retweets           8574 non-null   float64\n",
      " 18  tweet_replies            8574 non-null   float64\n",
      " 19  tweet_favorites          8574 non-null   float64\n",
      " 20  tweet_sentiment1         8584 non-null   float64\n",
      " 21  tweet_sentiment2         8584 non-null   float64\n",
      " 22  tweet_sentiment3         8584 non-null   float64\n",
      " 23  tweet_sentiment4         8584 non-null   float64\n",
      " 24  tweet_sentiment5         8584 non-null   float64\n",
      " 25  tweet_sentiment_impact1  8584 non-null   float64\n",
      " 26  tweet_sentiment_impact2  8584 non-null   float64\n",
      " 27  tweet_sentiment_impact3  8584 non-null   float64\n",
      " 28  tweet_sentiment_impact4  8584 non-null   float64\n",
      " 29  tweet_sentiment_impact5  8584 non-null   float64\n",
      " 30  social_score             8584 non-null   float64\n",
      " 31  average_sentiment        8584 non-null   float64\n",
      " 32  news                     8556 non-null   float64\n",
      " 33  price_score              8584 non-null   float64\n",
      " 34  social_impact_score      8584 non-null   float64\n",
      " 35  correlation_rank         8584 non-null   float64\n",
      " 36  galaxy_score             8584 non-null   float64\n",
      " 37  volatility               8546 non-null   float64\n",
      " 38  market_cap_rank          8314 non-null   float64\n",
      " 39  percent_change_24h_rank  8107 non-null   float64\n",
      " 40  volume_24h_rank          8107 non-null   float64\n",
      " 41  social_volume_24h_rank   8107 non-null   float64\n",
      " 42  social_score_24h_rank    8107 non-null   float64\n",
      " 43  medium                   2950 non-null   float64\n",
      " 44  youtube                  4786 non-null   float64\n",
      " 45  social_volume            12632 non-null  int64  \n",
      " 46  percent_change_24h       8313 non-null   float64\n",
      " 47  market_cap_global        8351 non-null   float64\n",
      " 48  close                    8617 non-null   float64\n",
      "dtypes: float64(46), int64(2), object(1)\n",
      "memory usage: 4.7+ MB\n"
     ]
    }
   ],
   "source": [
    "train.info()"
   ]
  },
  {
   "cell_type": "code",
   "execution_count": 12,
   "metadata": {},
   "outputs": [
    {
     "data": {
      "text/plain": [
       "Index(['id', 'asset_id', 'open', 'high', 'low', 'volume', 'market_cap',\n",
       "       'url_shares', 'unique_url_shares', 'reddit_posts', 'reddit_posts_score',\n",
       "       'reddit_comments', 'reddit_comments_score', 'tweets', 'tweet_spam',\n",
       "       'tweet_followers', 'tweet_quotes', 'tweet_retweets', 'tweet_replies',\n",
       "       'tweet_favorites', 'tweet_sentiment1', 'tweet_sentiment2',\n",
       "       'tweet_sentiment3', 'tweet_sentiment4', 'tweet_sentiment5',\n",
       "       'tweet_sentiment_impact1', 'tweet_sentiment_impact2',\n",
       "       'tweet_sentiment_impact3', 'tweet_sentiment_impact4',\n",
       "       'tweet_sentiment_impact5', 'social_score', 'average_sentiment', 'news',\n",
       "       'price_score', 'social_impact_score', 'correlation_rank',\n",
       "       'galaxy_score', 'volatility', 'market_cap_rank',\n",
       "       'percent_change_24h_rank', 'volume_24h_rank', 'social_volume_24h_rank',\n",
       "       'social_score_24h_rank', 'medium', 'youtube', 'social_volume',\n",
       "       'percent_change_24h', 'market_cap_global', 'close'],\n",
       "      dtype='object')"
      ]
     },
     "execution_count": 12,
     "metadata": {},
     "output_type": "execute_result"
    }
   ],
   "source": [
    "train.columns"
   ]
  },
  {
   "cell_type": "markdown",
   "metadata": {},
   "source": [
    "## Data Preprocessing"
   ]
  },
  {
   "cell_type": "markdown",
   "metadata": {
    "id": "m7PmKG0OeHBC"
   },
   "source": [
    "### Looking for missing values"
   ]
  },
  {
   "cell_type": "code",
   "execution_count": 13,
   "metadata": {
    "colab": {
     "base_uri": "https://localhost:8080/",
     "height": 609
    },
    "id": "0YgW1BBvd7l9",
    "outputId": "f97cee11-9c0a-4db0-85ae-9c3ec0bc5a84"
   },
   "outputs": [
    {
     "data": {
      "image/png": "[encoded data removed]",
      "text/plain": [
       "<Figure size 648x720 with 1 Axes>"
      ]
     },
     "metadata": {
      "needs_background": "light"
     },
     "output_type": "display_data"
    }
   ],
   "source": [
    "ax = train.isna().sum().sort_values().plot(kind = 'barh', figsize = (9, 10))\n",
    "plt.title('Percentage of Missing Values Per Column in Train Set', fontdict={'size':15})\n",
    "for p in ax.patches:\n",
    "    percentage ='{:,.0f}%'.format((p.get_width()/train.shape[0])*100)\n",
    "    width, height =p.get_width(),p.get_height()\n",
    "    x=p.get_x()+width+0.02\n",
    "    y=p.get_y()+height/2\n",
    "    ax.annotate(percentage,(x,y))"
   ]
  },
  {
   "cell_type": "code",
   "execution_count": 14,
   "metadata": {
    "colab": {
     "base_uri": "https://localhost:8080/",
     "height": 609
    },
    "id": "eBzu4neOeFDt",
    "outputId": "18ec60cc-cd08-4cb5-a272-0c062a593f6c"
   },
   "outputs": [
    {
     "data": {
      "image/png": "[encoded data removed]",
      "text/plain": [
       "<Figure size 648x720 with 1 Axes>"
      ]
     },
     "metadata": {
      "needs_background": "light"
     },
     "output_type": "display_data"
    }
   ],
   "source": [
    "ax = test.isna().sum().sort_values().plot(kind = 'barh', figsize = (9, 10))\n",
    "plt.title('Percentage of Missing Values Per Column in Test Set', fontdict={'size':15})\n",
    "\n",
    "for p in ax.patches:\n",
    "    percentage ='{:,.1f}%'.format((p.get_width()/test.shape[0])*100)\n",
    "    width, height =p.get_width(),p.get_height()\n",
    "    x=p.get_x()+width+0.02\n",
    "    y=p.get_y()+height/2\n",
    "    ax.annotate(percentage,(x,y))"
   ]
  },
  {
   "cell_type": "markdown",
   "metadata": {},
   "source": [
    "### Correlation analysis"
   ]
  },
  {
   "cell_type": "code",
   "execution_count": 15,
   "metadata": {},
   "outputs": [
    {
     "data": {
      "text/plain": [
       "close                      1.000000\n",
       "market_cap                 0.999978\n",
       "high                       0.999971\n",
       "low                        0.999956\n",
       "open                       0.999936\n",
       "market_cap_global          0.998884\n",
       "volume_24h_rank            0.787742\n",
       "tweet_spam                 0.751862\n",
       "reddit_comments            0.712700\n",
       "tweet_sentiment2           0.700992\n",
       "reddit_posts               0.658126\n",
       "social_volume              0.614383\n",
       "tweet_followers            0.597276\n",
       "tweets                     0.596872\n",
       "social_score               0.574412\n",
       "tweet_sentiment4           0.568735\n",
       "tweet_sentiment_impact5    0.565974\n",
       "url_shares                 0.563648\n",
       "tweet_sentiment1           0.532631\n",
       "unique_url_shares          0.526003\n",
       "tweet_sentiment_impact2    0.509706\n",
       "tweet_sentiment_impact4    0.485499\n",
       "tweet_sentiment5           0.466703\n",
       "tweet_sentiment_impact1    0.450724\n",
       "tweet_favorites            0.413593\n",
       "tweet_sentiment3           0.384254\n",
       "tweet_sentiment_impact3    0.375025\n",
       "tweet_replies              0.355042\n",
       "volume                     0.337529\n",
       "reddit_posts_score         0.206266\n",
       "medium                     0.179632\n",
       "tweet_retweets             0.127641\n",
       "tweet_quotes               0.110958\n",
       "percent_change_24h         0.096821\n",
       "volatility                 0.090333\n",
       "percent_change_24h_rank    0.083902\n",
       "news                       0.056810\n",
       "correlation_rank           0.046993\n",
       "reddit_comments_score      0.045210\n",
       "social_volume_24h_rank     0.031731\n",
       "price_score                0.017379\n",
       "galaxy_score               0.012560\n",
       "market_cap_rank           -0.010282\n",
       "social_score_24h_rank     -0.035390\n",
       "social_impact_score       -0.040766\n",
       "average_sentiment         -0.083202\n",
       "youtube                   -0.113260\n",
       "asset_id                        NaN\n",
       "Name: close, dtype: float64"
      ]
     },
     "execution_count": 15,
     "metadata": {},
     "output_type": "execute_result"
    }
   ],
   "source": [
    "train.corr()['close'].sort_values(ascending=False)"
   ]
  },
  {
   "cell_type": "code",
   "execution_count": 16,
   "metadata": {},
   "outputs": [
    {
     "data": {
      "text/plain": [
       "id                            0\n",
       "asset_id                      0\n",
       "open                       4015\n",
       "high                       4015\n",
       "low                        4015\n",
       "volume                     4027\n",
       "market_cap                 4253\n",
       "url_shares                 4057\n",
       "unique_url_shares          4057\n",
       "reddit_posts                241\n",
       "reddit_posts_score          241\n",
       "reddit_comments             230\n",
       "reddit_comments_score       230\n",
       "tweets                     4048\n",
       "tweet_spam                 4048\n",
       "tweet_followers            4058\n",
       "tweet_quotes               4058\n",
       "tweet_retweets             4058\n",
       "tweet_replies              4058\n",
       "tweet_favorites            4058\n",
       "tweet_sentiment1           4048\n",
       "tweet_sentiment2           4048\n",
       "tweet_sentiment3           4048\n",
       "tweet_sentiment4           4048\n",
       "tweet_sentiment5           4048\n",
       "tweet_sentiment_impact1    4048\n",
       "tweet_sentiment_impact2    4048\n",
       "tweet_sentiment_impact3    4048\n",
       "tweet_sentiment_impact4    4048\n",
       "tweet_sentiment_impact5    4048\n",
       "social_score               4048\n",
       "average_sentiment          4048\n",
       "news                       4076\n",
       "price_score                4048\n",
       "social_impact_score        4048\n",
       "correlation_rank           4048\n",
       "galaxy_score               4048\n",
       "volatility                 4086\n",
       "market_cap_rank            4318\n",
       "percent_change_24h_rank    4525\n",
       "volume_24h_rank            4525\n",
       "social_volume_24h_rank     4525\n",
       "social_score_24h_rank      4525\n",
       "medium                     9682\n",
       "youtube                    7846\n",
       "social_volume                 0\n",
       "percent_change_24h         4319\n",
       "market_cap_global          4281\n",
       "close                      4015\n",
       "dtype: int64"
      ]
     },
     "execution_count": 16,
     "metadata": {},
     "output_type": "execute_result"
    }
   ],
   "source": [
    "train.isnull().sum()"
   ]
  },
  {
   "cell_type": "markdown",
   "metadata": {},
   "source": [
    "#### Dropping rows where entries of most important columns are missing"
   ]
  },
  {
   "cell_type": "code",
   "execution_count": 17,
   "metadata": {},
   "outputs": [],
   "source": [
    "# train.dropna(axis=0,\n",
    "#           subset = ['open', 'market_cap', 'market_cap_global', 'volatility', 'percent_change_24h', 'volume'],\n",
    "#           inplace = True)\n",
    "# test.dropna(axis=0,\n",
    "#           subset = ['open', 'market_cap', 'market_cap_global', 'volatility', 'percent_change_24h', 'volume'],\n",
    "#           inplace = True)\n",
    "train=train.fillna(0)\n",
    "test=test.fillna(0)"
   ]
  },
  {
   "cell_type": "markdown",
   "metadata": {},
   "source": [
    "#### Checking for remaining null values"
   ]
  },
  {
   "cell_type": "code",
   "execution_count": 18,
   "metadata": {},
   "outputs": [
    {
     "name": "stdout",
     "output_type": "stream",
     "text": [
      "<class 'pandas.core.frame.DataFrame'>\n",
      "RangeIndex: 12632 entries, 0 to 12631\n",
      "Data columns (total 49 columns):\n",
      " #   Column                   Non-Null Count  Dtype  \n",
      "---  ------                   --------------  -----  \n",
      " 0   id                       12632 non-null  object \n",
      " 1   asset_id                 12632 non-null  int64  \n",
      " 2   open                     12632 non-null  float64\n",
      " 3   high                     12632 non-null  float64\n",
      " 4   low                      12632 non-null  float64\n",
      " 5   volume                   12632 non-null  float64\n",
      " 6   market_cap               12632 non-null  float64\n",
      " 7   url_shares               12632 non-null  float64\n",
      " 8   unique_url_shares        12632 non-null  float64\n",
      " 9   reddit_posts             12632 non-null  float64\n",
      " 10  reddit_posts_score       12632 non-null  float64\n",
      " 11  reddit_comments          12632 non-null  float64\n",
      " 12  reddit_comments_score    12632 non-null  float64\n",
      " 13  tweets                   12632 non-null  float64\n",
      " 14  tweet_spam               12632 non-null  float64\n",
      " 15  tweet_followers          12632 non-null  float64\n",
      " 16  tweet_quotes             12632 non-null  float64\n",
      " 17  tweet_retweets           12632 non-null  float64\n",
      " 18  tweet_replies            12632 non-null  float64\n",
      " 19  tweet_favorites          12632 non-null  float64\n",
      " 20  tweet_sentiment1         12632 non-null  float64\n",
      " 21  tweet_sentiment2         12632 non-null  float64\n",
      " 22  tweet_sentiment3         12632 non-null  float64\n",
      " 23  tweet_sentiment4         12632 non-null  float64\n",
      " 24  tweet_sentiment5         12632 non-null  float64\n",
      " 25  tweet_sentiment_impact1  12632 non-null  float64\n",
      " 26  tweet_sentiment_impact2  12632 non-null  float64\n",
      " 27  tweet_sentiment_impact3  12632 non-null  float64\n",
      " 28  tweet_sentiment_impact4  12632 non-null  float64\n",
      " 29  tweet_sentiment_impact5  12632 non-null  float64\n",
      " 30  social_score             12632 non-null  float64\n",
      " 31  average_sentiment        12632 non-null  float64\n",
      " 32  news                     12632 non-null  float64\n",
      " 33  price_score              12632 non-null  float64\n",
      " 34  social_impact_score      12632 non-null  float64\n",
      " 35  correlation_rank         12632 non-null  float64\n",
      " 36  galaxy_score             12632 non-null  float64\n",
      " 37  volatility               12632 non-null  float64\n",
      " 38  market_cap_rank          12632 non-null  float64\n",
      " 39  percent_change_24h_rank  12632 non-null  float64\n",
      " 40  volume_24h_rank          12632 non-null  float64\n",
      " 41  social_volume_24h_rank   12632 non-null  float64\n",
      " 42  social_score_24h_rank    12632 non-null  float64\n",
      " 43  medium                   12632 non-null  float64\n",
      " 44  youtube                  12632 non-null  float64\n",
      " 45  social_volume            12632 non-null  int64  \n",
      " 46  percent_change_24h       12632 non-null  float64\n",
      " 47  market_cap_global        12632 non-null  float64\n",
      " 48  close                    12632 non-null  float64\n",
      "dtypes: float64(46), int64(2), object(1)\n",
      "memory usage: 4.7+ MB\n"
     ]
    }
   ],
   "source": [
    "train.info()"
   ]
  },
  {
   "cell_type": "markdown",
   "metadata": {},
   "source": [
    "#### Removing columns with percentage of missing values > 60"
   ]
  },
  {
   "cell_type": "code",
   "execution_count": 19,
   "metadata": {
    "scrolled": true
   },
   "outputs": [
    {
     "data": {
      "text/html": [
       "<div>\n",
       "<style scoped>\n",
       "    .dataframe tbody tr th:only-of-type {\n",
       "        vertical-align: middle;\n",
       "    }\n",
       "\n",
       "    .dataframe tbody tr th {\n",
       "        vertical-align: top;\n",
       "    }\n",
       "\n",
       "    .dataframe thead th {\n",
       "        text-align: right;\n",
       "    }\n",
       "</style>\n",
       "<table border=\"1\" class=\"dataframe\">\n",
       "  <thead>\n",
       "    <tr style=\"text-align: right;\">\n",
       "      <th></th>\n",
       "      <th>id</th>\n",
       "      <th>asset_id</th>\n",
       "      <th>open</th>\n",
       "      <th>high</th>\n",
       "      <th>low</th>\n",
       "      <th>volume</th>\n",
       "      <th>market_cap</th>\n",
       "      <th>url_shares</th>\n",
       "      <th>unique_url_shares</th>\n",
       "      <th>reddit_posts</th>\n",
       "      <th>...</th>\n",
       "      <th>volatility</th>\n",
       "      <th>market_cap_rank</th>\n",
       "      <th>percent_change_24h_rank</th>\n",
       "      <th>volume_24h_rank</th>\n",
       "      <th>social_volume_24h_rank</th>\n",
       "      <th>social_score_24h_rank</th>\n",
       "      <th>social_volume</th>\n",
       "      <th>percent_change_24h</th>\n",
       "      <th>market_cap_global</th>\n",
       "      <th>close</th>\n",
       "    </tr>\n",
       "  </thead>\n",
       "  <tbody>\n",
       "    <tr>\n",
       "      <th>0</th>\n",
       "      <td>ID_322qz6</td>\n",
       "      <td>1</td>\n",
       "      <td>9422.849081</td>\n",
       "      <td>9428.490628</td>\n",
       "      <td>9422.849081</td>\n",
       "      <td>7.131986e+08</td>\n",
       "      <td>1.737635e+11</td>\n",
       "      <td>1689.0</td>\n",
       "      <td>817.0</td>\n",
       "      <td>55.0</td>\n",
       "      <td>...</td>\n",
       "      <td>0.007118</td>\n",
       "      <td>1.0</td>\n",
       "      <td>606.0</td>\n",
       "      <td>2.0</td>\n",
       "      <td>1.0</td>\n",
       "      <td>1.0</td>\n",
       "      <td>4422</td>\n",
       "      <td>1.434516</td>\n",
       "      <td>2.818066e+11</td>\n",
       "      <td>9428.279323</td>\n",
       "    </tr>\n",
       "    <tr>\n",
       "      <th>1</th>\n",
       "      <td>ID_3239o9</td>\n",
       "      <td>1</td>\n",
       "      <td>7985.359278</td>\n",
       "      <td>7992.059917</td>\n",
       "      <td>7967.567267</td>\n",
       "      <td>4.004755e+08</td>\n",
       "      <td>1.426942e+11</td>\n",
       "      <td>920.0</td>\n",
       "      <td>544.0</td>\n",
       "      <td>20.0</td>\n",
       "      <td>...</td>\n",
       "      <td>0.009419</td>\n",
       "      <td>1.0</td>\n",
       "      <td>0.0</td>\n",
       "      <td>0.0</td>\n",
       "      <td>0.0</td>\n",
       "      <td>0.0</td>\n",
       "      <td>2159</td>\n",
       "      <td>-2.459507</td>\n",
       "      <td>2.126897e+11</td>\n",
       "      <td>7967.567267</td>\n",
       "    </tr>\n",
       "    <tr>\n",
       "      <th>2</th>\n",
       "      <td>ID_323J9k</td>\n",
       "      <td>1</td>\n",
       "      <td>49202.033778</td>\n",
       "      <td>49394.593518</td>\n",
       "      <td>49068.057046</td>\n",
       "      <td>3.017729e+09</td>\n",
       "      <td>9.166977e+11</td>\n",
       "      <td>1446.0</td>\n",
       "      <td>975.0</td>\n",
       "      <td>72.0</td>\n",
       "      <td>...</td>\n",
       "      <td>0.013530</td>\n",
       "      <td>1.0</td>\n",
       "      <td>692.0</td>\n",
       "      <td>3.0</td>\n",
       "      <td>1.0</td>\n",
       "      <td>1.0</td>\n",
       "      <td>10602</td>\n",
       "      <td>4.942448</td>\n",
       "      <td>1.530712e+12</td>\n",
       "      <td>49120.738484</td>\n",
       "    </tr>\n",
       "    <tr>\n",
       "      <th>3</th>\n",
       "      <td>ID_323y5P</td>\n",
       "      <td>1</td>\n",
       "      <td>0.000000</td>\n",
       "      <td>0.000000</td>\n",
       "      <td>0.000000</td>\n",
       "      <td>0.000000e+00</td>\n",
       "      <td>0.000000e+00</td>\n",
       "      <td>0.0</td>\n",
       "      <td>0.0</td>\n",
       "      <td>17.0</td>\n",
       "      <td>...</td>\n",
       "      <td>0.000000</td>\n",
       "      <td>0.0</td>\n",
       "      <td>0.0</td>\n",
       "      <td>0.0</td>\n",
       "      <td>0.0</td>\n",
       "      <td>0.0</td>\n",
       "      <td>285</td>\n",
       "      <td>0.000000</td>\n",
       "      <td>0.000000e+00</td>\n",
       "      <td>0.000000</td>\n",
       "    </tr>\n",
       "    <tr>\n",
       "      <th>4</th>\n",
       "      <td>ID_324kJH</td>\n",
       "      <td>1</td>\n",
       "      <td>10535.737119</td>\n",
       "      <td>10535.737119</td>\n",
       "      <td>10384.798216</td>\n",
       "      <td>1.150053e+09</td>\n",
       "      <td>1.921183e+11</td>\n",
       "      <td>1012.0</td>\n",
       "      <td>638.0</td>\n",
       "      <td>24.0</td>\n",
       "      <td>...</td>\n",
       "      <td>0.010332</td>\n",
       "      <td>1.0</td>\n",
       "      <td>749.0</td>\n",
       "      <td>2.0</td>\n",
       "      <td>1.0</td>\n",
       "      <td>1.0</td>\n",
       "      <td>3996</td>\n",
       "      <td>2.609576</td>\n",
       "      <td>3.386925e+11</td>\n",
       "      <td>10384.798216</td>\n",
       "    </tr>\n",
       "  </tbody>\n",
       "</table>\n",
       "<p>5 rows × 47 columns</p>\n",
       "</div>"
      ],
      "text/plain": [
       "          id  asset_id          open          high           low  \\\n",
       "0  ID_322qz6         1   9422.849081   9428.490628   9422.849081   \n",
       "1  ID_3239o9         1   7985.359278   7992.059917   7967.567267   \n",
       "2  ID_323J9k         1  49202.033778  49394.593518  49068.057046   \n",
       "3  ID_323y5P         1      0.000000      0.000000      0.000000   \n",
       "4  ID_324kJH         1  10535.737119  10535.737119  10384.798216   \n",
       "\n",
       "         volume    market_cap  url_shares  unique_url_shares  reddit_posts  \\\n",
       "0  7.131986e+08  1.737635e+11      1689.0              817.0          55.0   \n",
       "1  4.004755e+08  1.426942e+11       920.0              544.0          20.0   \n",
       "2  3.017729e+09  9.166977e+11      1446.0              975.0          72.0   \n",
       "3  0.000000e+00  0.000000e+00         0.0                0.0          17.0   \n",
       "4  1.150053e+09  1.921183e+11      1012.0              638.0          24.0   \n",
       "\n",
       "   ...  volatility  market_cap_rank  percent_change_24h_rank  volume_24h_rank  \\\n",
       "0  ...    0.007118              1.0                    606.0              2.0   \n",
       "1  ...    0.009419              1.0                      0.0              0.0   \n",
       "2  ...    0.013530              1.0                    692.0              3.0   \n",
       "3  ...    0.000000              0.0                      0.0              0.0   \n",
       "4  ...    0.010332              1.0                    749.0              2.0   \n",
       "\n",
       "   social_volume_24h_rank  social_score_24h_rank  social_volume  \\\n",
       "0                     1.0                    1.0           4422   \n",
       "1                     0.0                    0.0           2159   \n",
       "2                     1.0                    1.0          10602   \n",
       "3                     0.0                    0.0            285   \n",
       "4                     1.0                    1.0           3996   \n",
       "\n",
       "   percent_change_24h  market_cap_global         close  \n",
       "0            1.434516       2.818066e+11   9428.279323  \n",
       "1           -2.459507       2.126897e+11   7967.567267  \n",
       "2            4.942448       1.530712e+12  49120.738484  \n",
       "3            0.000000       0.000000e+00      0.000000  \n",
       "4            2.609576       3.386925e+11  10384.798216  \n",
       "\n",
       "[5 rows x 47 columns]"
      ]
     },
     "execution_count": 19,
     "metadata": {},
     "output_type": "execute_result"
    }
   ],
   "source": [
    "train.drop(['medium', 'youtube'], axis=1,inplace=True)\n",
    "train.head()"
   ]
  },
  {
   "cell_type": "code",
   "execution_count": 20,
   "metadata": {
    "scrolled": true
   },
   "outputs": [
    {
     "data": {
      "text/html": [
       "<div>\n",
       "<style scoped>\n",
       "    .dataframe tbody tr th:only-of-type {\n",
       "        vertical-align: middle;\n",
       "    }\n",
       "\n",
       "    .dataframe tbody tr th {\n",
       "        vertical-align: top;\n",
       "    }\n",
       "\n",
       "    .dataframe thead th {\n",
       "        text-align: right;\n",
       "    }\n",
       "</style>\n",
       "<table border=\"1\" class=\"dataframe\">\n",
       "  <thead>\n",
       "    <tr style=\"text-align: right;\">\n",
       "      <th></th>\n",
       "      <th>id</th>\n",
       "      <th>asset_id</th>\n",
       "      <th>open</th>\n",
       "      <th>high</th>\n",
       "      <th>low</th>\n",
       "      <th>volume</th>\n",
       "      <th>market_cap</th>\n",
       "      <th>url_shares</th>\n",
       "      <th>unique_url_shares</th>\n",
       "      <th>reddit_posts</th>\n",
       "      <th>...</th>\n",
       "      <th>galaxy_score</th>\n",
       "      <th>volatility</th>\n",
       "      <th>market_cap_rank</th>\n",
       "      <th>percent_change_24h_rank</th>\n",
       "      <th>volume_24h_rank</th>\n",
       "      <th>social_volume_24h_rank</th>\n",
       "      <th>social_score_24h_rank</th>\n",
       "      <th>social_volume</th>\n",
       "      <th>percent_change_24h</th>\n",
       "      <th>market_cap_global</th>\n",
       "    </tr>\n",
       "  </thead>\n",
       "  <tbody>\n",
       "    <tr>\n",
       "      <th>0</th>\n",
       "      <td>ID_323Sn2</td>\n",
       "      <td>1</td>\n",
       "      <td>0.000000</td>\n",
       "      <td>0.000000</td>\n",
       "      <td>0.000000</td>\n",
       "      <td>0.000000e+00</td>\n",
       "      <td>0.000000e+00</td>\n",
       "      <td>0.0</td>\n",
       "      <td>0.0</td>\n",
       "      <td>7.0</td>\n",
       "      <td>...</td>\n",
       "      <td>0.0</td>\n",
       "      <td>0.000000</td>\n",
       "      <td>0.0</td>\n",
       "      <td>0.0</td>\n",
       "      <td>0.0</td>\n",
       "      <td>0.0</td>\n",
       "      <td>0.0</td>\n",
       "      <td>9</td>\n",
       "      <td>0.000000</td>\n",
       "      <td>0.000000e+00</td>\n",
       "    </tr>\n",
       "    <tr>\n",
       "      <th>1</th>\n",
       "      <td>ID_325SNW</td>\n",
       "      <td>1</td>\n",
       "      <td>11335.062190</td>\n",
       "      <td>11351.690960</td>\n",
       "      <td>11335.062190</td>\n",
       "      <td>1.064152e+09</td>\n",
       "      <td>2.101460e+11</td>\n",
       "      <td>1664.0</td>\n",
       "      <td>1045.0</td>\n",
       "      <td>64.0</td>\n",
       "      <td>...</td>\n",
       "      <td>65.5</td>\n",
       "      <td>0.004407</td>\n",
       "      <td>1.0</td>\n",
       "      <td>711.0</td>\n",
       "      <td>2.0</td>\n",
       "      <td>1.0</td>\n",
       "      <td>1.0</td>\n",
       "      <td>7245</td>\n",
       "      <td>-0.555698</td>\n",
       "      <td>3.631050e+11</td>\n",
       "    </tr>\n",
       "    <tr>\n",
       "      <th>2</th>\n",
       "      <td>ID_325uzE</td>\n",
       "      <td>1</td>\n",
       "      <td>6322.560756</td>\n",
       "      <td>6328.362354</td>\n",
       "      <td>6294.714484</td>\n",
       "      <td>1.516268e+09</td>\n",
       "      <td>1.153860e+11</td>\n",
       "      <td>397.0</td>\n",
       "      <td>255.0</td>\n",
       "      <td>11.0</td>\n",
       "      <td>...</td>\n",
       "      <td>65.5</td>\n",
       "      <td>0.024035</td>\n",
       "      <td>1.0</td>\n",
       "      <td>715.0</td>\n",
       "      <td>2.0</td>\n",
       "      <td>1.0</td>\n",
       "      <td>1.0</td>\n",
       "      <td>2702</td>\n",
       "      <td>1.689370</td>\n",
       "      <td>1.771070e+11</td>\n",
       "    </tr>\n",
       "    <tr>\n",
       "      <th>3</th>\n",
       "      <td>ID_328qCx</td>\n",
       "      <td>1</td>\n",
       "      <td>0.000000</td>\n",
       "      <td>0.000000</td>\n",
       "      <td>0.000000</td>\n",
       "      <td>0.000000e+00</td>\n",
       "      <td>0.000000e+00</td>\n",
       "      <td>0.0</td>\n",
       "      <td>0.0</td>\n",
       "      <td>8.0</td>\n",
       "      <td>...</td>\n",
       "      <td>0.0</td>\n",
       "      <td>0.000000</td>\n",
       "      <td>0.0</td>\n",
       "      <td>0.0</td>\n",
       "      <td>0.0</td>\n",
       "      <td>0.0</td>\n",
       "      <td>0.0</td>\n",
       "      <td>225</td>\n",
       "      <td>0.000000</td>\n",
       "      <td>0.000000e+00</td>\n",
       "    </tr>\n",
       "    <tr>\n",
       "      <th>4</th>\n",
       "      <td>ID_3293uJ</td>\n",
       "      <td>1</td>\n",
       "      <td>0.000000</td>\n",
       "      <td>0.000000</td>\n",
       "      <td>0.000000</td>\n",
       "      <td>0.000000e+00</td>\n",
       "      <td>0.000000e+00</td>\n",
       "      <td>0.0</td>\n",
       "      <td>0.0</td>\n",
       "      <td>26.0</td>\n",
       "      <td>...</td>\n",
       "      <td>0.0</td>\n",
       "      <td>0.000000</td>\n",
       "      <td>0.0</td>\n",
       "      <td>0.0</td>\n",
       "      <td>0.0</td>\n",
       "      <td>0.0</td>\n",
       "      <td>0.0</td>\n",
       "      <td>59</td>\n",
       "      <td>0.000000</td>\n",
       "      <td>0.000000e+00</td>\n",
       "    </tr>\n",
       "  </tbody>\n",
       "</table>\n",
       "<p>5 rows × 46 columns</p>\n",
       "</div>"
      ],
      "text/plain": [
       "          id  asset_id          open          high           low  \\\n",
       "0  ID_323Sn2         1      0.000000      0.000000      0.000000   \n",
       "1  ID_325SNW         1  11335.062190  11351.690960  11335.062190   \n",
       "2  ID_325uzE         1   6322.560756   6328.362354   6294.714484   \n",
       "3  ID_328qCx         1      0.000000      0.000000      0.000000   \n",
       "4  ID_3293uJ         1      0.000000      0.000000      0.000000   \n",
       "\n",
       "         volume    market_cap  url_shares  unique_url_shares  reddit_posts  \\\n",
       "0  0.000000e+00  0.000000e+00         0.0                0.0           7.0   \n",
       "1  1.064152e+09  2.101460e+11      1664.0             1045.0          64.0   \n",
       "2  1.516268e+09  1.153860e+11       397.0              255.0          11.0   \n",
       "3  0.000000e+00  0.000000e+00         0.0                0.0           8.0   \n",
       "4  0.000000e+00  0.000000e+00         0.0                0.0          26.0   \n",
       "\n",
       "   ...  galaxy_score  volatility  market_cap_rank  percent_change_24h_rank  \\\n",
       "0  ...           0.0    0.000000              0.0                      0.0   \n",
       "1  ...          65.5    0.004407              1.0                    711.0   \n",
       "2  ...          65.5    0.024035              1.0                    715.0   \n",
       "3  ...           0.0    0.000000              0.0                      0.0   \n",
       "4  ...           0.0    0.000000              0.0                      0.0   \n",
       "\n",
       "   volume_24h_rank  social_volume_24h_rank  social_score_24h_rank  \\\n",
       "0              0.0                     0.0                    0.0   \n",
       "1              2.0                     1.0                    1.0   \n",
       "2              2.0                     1.0                    1.0   \n",
       "3              0.0                     0.0                    0.0   \n",
       "4              0.0                     0.0                    0.0   \n",
       "\n",
       "   social_volume  percent_change_24h  market_cap_global  \n",
       "0              9            0.000000       0.000000e+00  \n",
       "1           7245           -0.555698       3.631050e+11  \n",
       "2           2702            1.689370       1.771070e+11  \n",
       "3            225            0.000000       0.000000e+00  \n",
       "4             59            0.000000       0.000000e+00  \n",
       "\n",
       "[5 rows x 46 columns]"
      ]
     },
     "execution_count": 20,
     "metadata": {},
     "output_type": "execute_result"
    }
   ],
   "source": [
    "test.drop(['medium', 'youtube'], axis=1,inplace=True)\n",
    "test.head()"
   ]
  },
  {
   "cell_type": "markdown",
   "metadata": {},
   "source": [
    "#### Removing columns which are barely useful"
   ]
  },
  {
   "cell_type": "code",
   "execution_count": 21,
   "metadata": {},
   "outputs": [],
   "source": [
    "# # list of relevant columns to keep\n",
    "\n",
    "# useful = ['id', 'open', 'high', 'low', 'volume', 'market_cap', 'social_score',\n",
    "#           'average_sentiment', 'price_score', 'social_impact_score',\n",
    "#           'correlation_rank', 'volatility', 'market_cap_global',\n",
    "#           'percent_change_24h', 'close']\n",
    "\n",
    "# # appending relevant columns to an empty list\n",
    "# drop = []\n",
    "# for x in list(train.columns):\n",
    "#   if x not in useful:\n",
    "#     drop.append(x)\n",
    "\n",
    "# train.drop(labels= drop,\n",
    "#         axis = 1,\n",
    "#         inplace = True)\n",
    "# train.head()"
   ]
  },
  {
   "cell_type": "code",
   "execution_count": 22,
   "metadata": {},
   "outputs": [],
   "source": [
    "# drop = []\n",
    "# for x in list(test.columns):\n",
    "#   if x not in useful:\n",
    "#     drop.append(x)\n",
    "\n",
    "\n",
    "# # dropping irrelevant columns in test set\n",
    "\n",
    "# test.drop(labels = drop,\n",
    "#           axis = 1,\n",
    "#           inplace = True)\n",
    "\n",
    "# test.head()"
   ]
  },
  {
   "cell_type": "code",
   "execution_count": 23,
   "metadata": {},
   "outputs": [
    {
     "data": {
      "text/plain": [
       "((12632, 47), (6222, 46))"
      ]
     },
     "execution_count": 23,
     "metadata": {},
     "output_type": "execute_result"
    }
   ],
   "source": [
    "train.shape, test.shape"
   ]
  },
  {
   "cell_type": "code",
   "execution_count": 21,
   "metadata": {},
   "outputs": [],
   "source": []
  },
  {
   "cell_type": "markdown",
   "metadata": {},
   "source": [
    "## Data Visualisation"
   ]
  },
  {
   "cell_type": "code",
   "execution_count": 24,
   "metadata": {},
   "outputs": [
    {
     "data": {
      "text/plain": [
       "<AxesSubplot:xlabel='close', ylabel='Count'>"
      ]
     },
     "execution_count": 24,
     "metadata": {},
     "output_type": "execute_result"
    },
    {
     "data": {
      "image/png": "[encoded data removed]",
      "text/plain": [
       "<Figure size 864x432 with 1 Axes>"
      ]
     },
     "metadata": {
      "needs_background": "light"
     },
     "output_type": "display_data"
    }
   ],
   "source": [
    "plt.figure(figsize=(12,6))\n",
    "sns.histplot(data=train,x=\"close\", bins=20)"
   ]
  },
  {
   "cell_type": "code",
   "execution_count": 23,
   "metadata": {},
   "outputs": [
    {
     "data": {
      "text/plain": [
       "<AxesSubplot:xlabel='market_cap_global', ylabel='close'>"
      ]
     },
     "execution_count": 23,
     "metadata": {},
     "output_type": "execute_result"
    },
    {
     "data": {
      "image/png": "[encoded data removed]",
      "text/plain": [
       "<Figure size 864x432 with 1 Axes>"
      ]
     },
     "metadata": {
      "needs_background": "light"
     },
     "output_type": "display_data"
    }
   ],
   "source": [
    "plt.figure(figsize=(12,6))\n",
    "sns.lineplot(x='market_cap_global',y='close',data=train)"
   ]
  },
  {
   "cell_type": "code",
   "execution_count": 24,
   "metadata": {},
   "outputs": [
    {
     "data": {
      "text/plain": [
       "<AxesSubplot:xlabel='open', ylabel='close'>"
      ]
     },
     "execution_count": 24,
     "metadata": {},
     "output_type": "execute_result"
    },
    {
     "data": {
      "image/png": "[encoded data removed]",
      "text/plain": [
       "<Figure size 864x432 with 1 Axes>"
      ]
     },
     "metadata": {
      "needs_background": "light"
     },
     "output_type": "display_data"
    }
   ],
   "source": [
    "plt.figure(figsize=(12,6))\n",
    "sns.lineplot(x='open',y='close',data=train)"
   ]
  },
  {
   "cell_type": "code",
   "execution_count": 25,
   "metadata": {},
   "outputs": [],
   "source": [
    "# plt.figure(figsize=(12,6))\n",
    "# sns.scatterplot(x='tweet_spam',y='close',data=train)"
   ]
  },
  {
   "cell_type": "code",
   "execution_count": 26,
   "metadata": {},
   "outputs": [],
   "source": [
    "# sns.pairplot(train)"
   ]
  },
  {
   "cell_type": "code",
   "execution_count": 27,
   "metadata": {},
   "outputs": [
    {
     "data": {
      "text/plain": [
       "<AxesSubplot:>"
      ]
     },
     "execution_count": 27,
     "metadata": {},
     "output_type": "execute_result"
    },
    {
     "data": {
      "image/png": "[encoded data removed]",
      "text/plain": [
       "<Figure size 1080x720 with 2 Axes>"
      ]
     },
     "metadata": {
      "needs_background": "light"
     },
     "output_type": "display_data"
    }
   ],
   "source": [
    "plt.figure(figsize=(15,10))\n",
    "sns.heatmap(train.corr())"
   ]
  },
  {
   "cell_type": "code",
   "execution_count": 25,
   "metadata": {},
   "outputs": [
    {
     "data": {
      "text/plain": [
       "(12632, 47)"
      ]
     },
     "execution_count": 25,
     "metadata": {},
     "output_type": "execute_result"
    }
   ],
   "source": [
    "train.shape"
   ]
  },
  {
   "cell_type": "markdown",
   "metadata": {},
   "source": [
    "## Learning Models"
   ]
  },
  {
   "cell_type": "markdown",
   "metadata": {},
   "source": [
    "### Linear Regression Model"
   ]
  },
  {
   "cell_type": "markdown",
   "metadata": {},
   "source": [
    "#### X and y arrays"
   ]
  },
  {
   "cell_type": "code",
   "execution_count": 120,
   "metadata": {},
   "outputs": [],
   "source": [
    "# Creating the X and y variables\n",
    "\n",
    "X = train[features]\n",
    "y = train[['close']]\n",
    "\n",
    "# features\n",
    "features = ['open', 'high', 'low', 'market_cap', 'market_cap_global']"
   ]
  },
  {
   "cell_type": "code",
   "execution_count": 116,
   "metadata": {},
   "outputs": [],
   "source": [
    "from sklearn.preprocessing import StandardScaler "
   ]
  },
  {
   "cell_type": "code",
   "execution_count": 125,
   "metadata": {},
   "outputs": [],
   "source": [
    "from sklearn.metrics import mean_squared_error as mse\n",
    "from sklearn.metrics import make_scorer\n",
    "\n",
    "# custom error function\n",
    "def rootmse(y_true, y_pred):\n",
    "    y_true = lab_scaler.inverse_transform(y_true)\n",
    "    y_pred = lab_scaler.inverse_transform(y_pred)\n",
    "    return mse(y_true, y_pred, squared=False)\n",
    "rmse = make_scorer(rootmse, greater_is_better=False)"
   ]
  },
  {
   "cell_type": "markdown",
   "metadata": {},
   "source": [
    "#### Standardization"
   ]
  },
  {
   "cell_type": "code",
   "execution_count": 177,
   "metadata": {},
   "outputs": [],
   "source": [
    "# Instantiate standard scaler\n",
    "\n",
    "scaler = StandardScaler()\n",
    "\n",
    "# transform data\n",
    "X = scaler.fit_transform(X)\n",
    "# y = scaler.fit_transform(y)"
   ]
  },
  {
   "cell_type": "markdown",
   "metadata": {},
   "source": [
    "#### Train Test Split"
   ]
  },
  {
   "cell_type": "code",
   "execution_count": 178,
   "metadata": {},
   "outputs": [
    {
     "name": "stdout",
     "output_type": "stream",
     "text": [
      "(11368, 5) (1264, 5) (11368, 1) (1264, 1)\n"
     ]
    }
   ],
   "source": [
    "# train test split\n",
    "X_train, X_test, y_train, y_test = train_test_split(X, y, test_size=0.1, random_state=25)\n",
    "print(X_train.shape, X_test.shape, y_train.shape, y_test.shape)"
   ]
  },
  {
   "cell_type": "markdown",
   "metadata": {},
   "source": [
    "#### Creating and Training the Model"
   ]
  },
  {
   "cell_type": "code",
   "execution_count": 179,
   "metadata": {},
   "outputs": [],
   "source": [
    "lm = LinearRegression()"
   ]
  },
  {
   "cell_type": "code",
   "execution_count": 180,
   "metadata": {},
   "outputs": [
    {
     "data": {
      "text/plain": [
       "LinearRegression()"
      ]
     },
     "execution_count": 180,
     "metadata": {},
     "output_type": "execute_result"
    }
   ],
   "source": [
    "lm.fit(X_train,y_train)"
   ]
  },
  {
   "cell_type": "code",
   "execution_count": 181,
   "metadata": {},
   "outputs": [
    {
     "name": "stdout",
     "output_type": "stream",
     "text": [
      "[7.42894052e-06]\n"
     ]
    }
   ],
   "source": [
    "print(lm.intercept_)"
   ]
  },
  {
   "cell_type": "code",
   "execution_count": 182,
   "metadata": {},
   "outputs": [
    {
     "data": {
      "text/plain": [
       "array([[-0.53901586,  0.89861433,  0.64077772, -0.00364434,  0.00329764]])"
      ]
     },
     "execution_count": 182,
     "metadata": {},
     "output_type": "execute_result"
    }
   ],
   "source": [
    "lm.coef_"
   ]
  },
  {
   "cell_type": "markdown",
   "metadata": {},
   "source": [
    "# Predicting values using LinearRegression model"
   ]
  },
  {
   "cell_type": "code",
   "execution_count": 183,
   "metadata": {},
   "outputs": [
    {
     "data": {
      "text/plain": [
       "array([[ 0.00780033],\n",
       "       [ 0.41553467],\n",
       "       [-0.12931459],\n",
       "       ...,\n",
       "       [-0.77122125],\n",
       "       [-0.77122125],\n",
       "       [-0.2458143 ]])"
      ]
     },
     "execution_count": 183,
     "metadata": {},
     "output_type": "execute_result"
    }
   ],
   "source": [
    "predictions = lm.predict(X_test)\n",
    "predictions\n",
    "\n",
    "# pred = pd.DataFrame({'Actual': y_test, 'Predicted': predictions})\n",
    "# pred"
   ]
  },
  {
   "cell_type": "code",
   "execution_count": 169,
   "metadata": {},
   "outputs": [
    {
     "data": {
      "text/plain": [
       "Text(0, 0.5, 'Predicted Y')"
      ]
     },
     "execution_count": 169,
     "metadata": {},
     "output_type": "execute_result"
    },
    {
     "data": {
      "image/png": "[encoded data removed]",
      "text/plain": [
       "<Figure size 432x288 with 1 Axes>"
      ]
     },
     "metadata": {
      "needs_background": "light"
     },
     "output_type": "display_data"
    }
   ],
   "source": [
    "##Scatterplot of real values in train.csv dataset vs predicted values\n",
    "\n",
    "plt.scatter(y_test,predictions)\n",
    "plt.xlabel('Y Test')\n",
    "plt.ylabel('Predicted Y')"
   ]
  },
  {
   "cell_type": "code",
   "execution_count": 170,
   "metadata": {},
   "outputs": [
    {
     "data": {
      "image/png": "[encoded data removed]",
      "text/plain": [
       "<Figure size 432x288 with 1 Axes>"
      ]
     },
     "metadata": {
      "needs_background": "light"
     },
     "output_type": "display_data"
    }
   ],
   "source": [
    "sns.distplot((y_test-predictions));"
   ]
  },
  {
   "cell_type": "markdown",
   "metadata": {},
   "source": [
    "Evaluating model Performance "
   ]
  },
  {
   "cell_type": "code",
   "execution_count": 184,
   "metadata": {},
   "outputs": [
    {
     "name": "stdout",
     "output_type": "stream",
     "text": [
      "58.083567859931634\n"
     ]
    }
   ],
   "source": [
    "print(rootmse(y_test, predictions))"
   ]
  },
  {
   "cell_type": "markdown",
   "metadata": {},
   "source": [
    "# Using Polynomial Regression\n"
   ]
  },
  {
   "cell_type": "code",
   "execution_count": 98,
   "metadata": {},
   "outputs": [],
   "source": [
    "from sklearn.preprocessing import PolynomialFeatures"
   ]
  },
  {
   "cell_type": "code",
   "execution_count": 99,
   "metadata": {},
   "outputs": [],
   "source": [
    "#Fitting the polynomial features to the X_train and X_test\n",
    "\n",
    "poly_features = PolynomialFeatures(degree = 2)\n",
    "X_poly_train= poly_features.fit_transform(X_train)\n",
    "X_poly_test = poly_features.transform(X_test)\n"
   ]
  },
  {
   "cell_type": "code",
   "execution_count": 100,
   "metadata": {},
   "outputs": [
    {
     "data": {
      "text/plain": [
       "LinearRegression()"
      ]
     },
     "execution_count": 100,
     "metadata": {},
     "output_type": "execute_result"
    }
   ],
   "source": [
    "# Training the model\n",
    "poly_reg = LinearRegression()\n",
    "poly_reg.fit(X_poly_train, y_train)"
   ]
  },
  {
   "cell_type": "code",
   "execution_count": 101,
   "metadata": {},
   "outputs": [],
   "source": [
    "# Making predictions\n",
    "# poly_ypred = poly_reg.predict(X_poly_test)\n",
    "\n",
    "# pred = pd.DataFrame({'Actual': y_test, 'Predicted': poly_ypred})\n",
    "# pred"
   ]
  },
  {
   "cell_type": "code",
   "execution_count": 102,
   "metadata": {},
   "outputs": [
    {
     "data": {
      "text/plain": [
       "Text(0, 0.5, 'Predicted Y')"
      ]
     },
     "execution_count": 102,
     "metadata": {},
     "output_type": "execute_result"
    },
    {
     "data": {
      "image/png": "[encoded data removed]",
      "text/plain": [
       "<Figure size 432x288 with 1 Axes>"
      ]
     },
     "metadata": {
      "needs_background": "light"
     },
     "output_type": "display_data"
    }
   ],
   "source": [
    "# Scatterplot of predicted values vs Actual values\n",
    "\n",
    "plt.scatter(y_test,poly_ypred)\n",
    "plt.xlabel('Y Test')\n",
    "plt.ylabel('Predicted Y')"
   ]
  },
  {
   "cell_type": "code",
   "execution_count": 103,
   "metadata": {},
   "outputs": [
    {
     "data": {
      "image/png": "[encoded data removed]",
      "text/plain": [
       "<Figure size 432x288 with 1 Axes>"
      ]
     },
     "metadata": {
      "needs_background": "light"
     },
     "output_type": "display_data"
    }
   ],
   "source": [
    "sns.distplot((y_test-poly_ypred));"
   ]
  },
  {
   "cell_type": "code",
   "execution_count": 131,
   "metadata": {},
   "outputs": [
    {
     "name": "stdout",
     "output_type": "stream",
     "text": [
      "The RMSE score for the polynomial model :  42.69637901661923\n"
     ]
    }
   ],
   "source": [
    "# Measuring the accuracy of the model\n",
    "\n",
    "print(\"The RMSE score for the polynomial model : \", rootmse(y_test, poly_ypred))"
   ]
  },
  {
   "cell_type": "markdown",
   "metadata": {},
   "source": [
    "# Using RandomForest Model"
   ]
  },
  {
   "cell_type": "code",
   "execution_count": 106,
   "metadata": {},
   "outputs": [],
   "source": [
    "from sklearn.ensemble import RandomForestRegressor"
   ]
  },
  {
   "cell_type": "code",
   "execution_count": 107,
   "metadata": {},
   "outputs": [],
   "source": [
    "# Instantiate model with 1000 decision trees\n",
    "rf_model  =  RandomForestRegressor(n_estimators=1000, random_state=42)\n",
    "\n",
    "# Train the model\n",
    "\n",
    "rf_model  =  rf_model.fit(X_train, y_train)"
   ]
  },
  {
   "cell_type": "code",
   "execution_count": 108,
   "metadata": {},
   "outputs": [],
   "source": [
    "# Making predictions based on the trained model \n",
    "\n",
    "rf_ypred = rf_model.predict(X_test)\n",
    "\n",
    "# pred = pd.DataFrame({'Actual': y_test, 'Predicted': rf_ypred})\n",
    "# pred"
   ]
  },
  {
   "cell_type": "code",
   "execution_count": 109,
   "metadata": {},
   "outputs": [],
   "source": [
    "# Scatterplot of predicted values vs Actual values\n",
    "\n",
    "# plt.scatter(y_test,rf_ypred)\n",
    "# plt.xlabel('Y Test')\n",
    "# plt.ylabel('Predicted Y')"
   ]
  },
  {
   "cell_type": "code",
   "execution_count": 110,
   "metadata": {},
   "outputs": [],
   "source": [
    "# sns.distplot((y_test- rf_ypred));"
   ]
  },
  {
   "cell_type": "code",
   "execution_count": 140,
   "metadata": {},
   "outputs": [
    {
     "name": "stdout",
     "output_type": "stream",
     "text": [
      "The RMSE score for the RandomForest model :  50.339019245721644\n"
     ]
    }
   ],
   "source": [
    "# Measuring the accuracy of the model\n",
    "\n",
    "print(\"The RMSE score for the RandomForest model : \", rootmse(y_test, rf_ypred))"
   ]
  },
  {
   "cell_type": "markdown",
   "metadata": {},
   "source": [
    "## Elastic Net Regressor"
   ]
  },
  {
   "cell_type": "code",
   "execution_count": 112,
   "metadata": {},
   "outputs": [],
   "source": [
    "from sklearn.linear_model import ElasticNet\n",
    "\n",
    "# Training the model\n",
    "elastic = ElasticNet(normalize=False)\n",
    "elastic.fit(X_train, y_train)\n",
    "\n",
    "# Making predictions\n",
    "elastic_ypred = elastic.predict(X_test)"
   ]
  },
  {
   "cell_type": "code",
   "execution_count": 141,
   "metadata": {},
   "outputs": [
    {
     "name": "stdout",
     "output_type": "stream",
     "text": [
      "RMSE of ElasticNet:  7800.797093622639\n"
     ]
    }
   ],
   "source": [
    "# Measuring the accuracy of the model\n",
    "print(\"RMSE of ElasticNet: \",rootmse(y_test,elastic_ypred))"
   ]
  },
  {
   "cell_type": "code",
   "execution_count": 142,
   "metadata": {},
   "outputs": [
    {
     "data": {
      "text/plain": [
       "Text(0, 0.5, 'Predicted Y')"
      ]
     },
     "execution_count": 142,
     "metadata": {},
     "output_type": "execute_result"
    },
    {
     "data": {
      "image/png": "[encoded data removed]",
      "text/plain": [
       "<Figure size 432x288 with 1 Axes>"
      ]
     },
     "metadata": {
      "needs_background": "light"
     },
     "output_type": "display_data"
    }
   ],
   "source": [
    "plt.scatter(y_test,elastic_ypred)\n",
    "plt.xlabel('Y Test')\n",
    "plt.ylabel('Predicted Y')"
   ]
  },
  {
   "cell_type": "code",
   "execution_count": 134,
   "metadata": {},
   "outputs": [],
   "source": [
    "# Making predictions\n",
    "\n",
    "# pred = pd.DataFrame({'Actual': y_test, 'Predicted': elastic_ypred})\n",
    "# pred"
   ]
  },
  {
   "cell_type": "markdown",
   "metadata": {},
   "source": [
    "## Lasso Regression\n"
   ]
  },
  {
   "cell_type": "code",
   "execution_count": 143,
   "metadata": {},
   "outputs": [],
   "source": [
    "from sklearn.linear_model import Lasso\n",
    "\n",
    "# Training the model\n",
    "lasso = Lasso(normalize=False)\n",
    "lasso.fit(X_train, y_train)\n",
    "\n",
    "# Making predictions\n",
    "lasso_ypred = lasso.predict(X_test)"
   ]
  },
  {
   "cell_type": "code",
   "execution_count": 144,
   "metadata": {},
   "outputs": [
    {
     "name": "stdout",
     "output_type": "stream",
     "text": [
      "RMSE of Lasso: 13966.129827525183\n"
     ]
    }
   ],
   "source": [
    "# Measuring the accuracy of the model\n",
    "print(f'RMSE of Lasso: {(rootmse(y_test, lasso_ypred))}')"
   ]
  },
  {
   "cell_type": "code",
   "execution_count": null,
   "metadata": {},
   "outputs": [],
   "source": [
    "plt.scatter(y_test,lasso_ypred)\n",
    "plt.xlabel('Y Test')\n",
    "plt.ylabel('Predicted Y')"
   ]
  },
  {
   "cell_type": "code",
   "execution_count": null,
   "metadata": {},
   "outputs": [],
   "source": [
    "# Making predictions\n",
    "\n",
    "pred = pd.DataFrame({'Actual': y_test, 'Predicted': lasso_ypred})\n",
    "pred"
   ]
  },
  {
   "cell_type": "markdown",
   "metadata": {},
   "source": [
    "## XGBRegressor"
   ]
  },
  {
   "cell_type": "code",
   "execution_count": 148,
   "metadata": {},
   "outputs": [],
   "source": [
    "from xgboost import XGBRegressor\n",
    "from xgboost.sklearn import XGBRegressor\n",
    "from sklearn.model_selection import GridSearchCV"
   ]
  },
  {
   "cell_type": "code",
   "execution_count": 149,
   "metadata": {},
   "outputs": [
    {
     "data": {
      "text/plain": [
       "XGBRegressor(base_score=0.5, booster='gbtree', colsample_bylevel=1,\n",
       "             colsample_bynode=1, colsample_bytree=1, gamma=0, gpu_id=-1,\n",
       "             importance_type='gain', interaction_constraints='',\n",
       "             learning_rate=0.300000012, max_delta_step=0, max_depth=6,\n",
       "             min_child_weight=1, missing=nan, monotone_constraints='()',\n",
       "             n_estimators=100, n_jobs=8, num_parallel_tree=1, random_state=0,\n",
       "             reg_alpha=0, reg_lambda=1, scale_pos_weight=1, subsample=1,\n",
       "             tree_method='exact', validate_parameters=1, verbosity=None)"
      ]
     },
     "execution_count": 149,
     "metadata": {},
     "output_type": "execute_result"
    }
   ],
   "source": [
    "xgb_model = XGBRegressor()\n",
    "xgb_model.fit(X_train,y_train)"
   ]
  },
  {
   "cell_type": "code",
   "execution_count": 150,
   "metadata": {},
   "outputs": [],
   "source": [
    "xgb_ypred = xgb_model.predict(X_test)"
   ]
  },
  {
   "cell_type": "code",
   "execution_count": 151,
   "metadata": {},
   "outputs": [
    {
     "name": "stdout",
     "output_type": "stream",
     "text": [
      "RMSE of XGBoost Predictor: 61.24919945616442\n"
     ]
    }
   ],
   "source": [
    "# Measuring the accuracy of the model\n",
    "print(f'RMSE of XGBoost Predictor: {rootmse(y_test, xgb_ypred)}') \n"
   ]
  },
  {
   "cell_type": "code",
   "execution_count": 152,
   "metadata": {},
   "outputs": [
    {
     "data": {
      "text/plain": [
       "Text(0, 0.5, 'Predicted Y')"
      ]
     },
     "execution_count": 152,
     "metadata": {},
     "output_type": "execute_result"
    },
    {
     "data": {
      "image/png": "[encoded data removed]",
      "text/plain": [
       "<Figure size 432x288 with 1 Axes>"
      ]
     },
     "metadata": {
      "needs_background": "light"
     },
     "output_type": "display_data"
    }
   ],
   "source": [
    "plt.scatter(y_test,xgb_ypred)\n",
    "plt.xlabel('Y Test')\n",
    "plt.ylabel('Predicted Y')"
   ]
  },
  {
   "cell_type": "code",
   "execution_count": 159,
   "metadata": {},
   "outputs": [],
   "source": [
    "# Making predictions\n",
    "\n",
    "# pred = pd.DataFrame({'Actual': y_test, 'Predicted': xgb_ypred})"
   ]
  },
  {
   "cell_type": "markdown",
   "metadata": {},
   "source": [
    "### Submission"
   ]
  },
  {
   "cell_type": "code",
   "execution_count": 176,
   "metadata": {},
   "outputs": [
    {
     "data": {
      "text/html": [
       "<div>\n",
       "<style scoped>\n",
       "    .dataframe tbody tr th:only-of-type {\n",
       "        vertical-align: middle;\n",
       "    }\n",
       "\n",
       "    .dataframe tbody tr th {\n",
       "        vertical-align: top;\n",
       "    }\n",
       "\n",
       "    .dataframe thead th {\n",
       "        text-align: right;\n",
       "    }\n",
       "</style>\n",
       "<table border=\"1\" class=\"dataframe\">\n",
       "  <thead>\n",
       "    <tr style=\"text-align: right;\">\n",
       "      <th></th>\n",
       "      <th>id</th>\n",
       "      <th>close</th>\n",
       "    </tr>\n",
       "  </thead>\n",
       "  <tbody>\n",
       "    <tr>\n",
       "      <th>0</th>\n",
       "      <td>ID_323Sn2</td>\n",
       "      <td>4.495049</td>\n",
       "    </tr>\n",
       "    <tr>\n",
       "      <th>1</th>\n",
       "      <td>ID_325SNW</td>\n",
       "      <td>11343.828479</td>\n",
       "    </tr>\n",
       "    <tr>\n",
       "      <th>2</th>\n",
       "      <td>ID_325uzE</td>\n",
       "      <td>6306.091579</td>\n",
       "    </tr>\n",
       "    <tr>\n",
       "      <th>3</th>\n",
       "      <td>ID_328qCx</td>\n",
       "      <td>4.495049</td>\n",
       "    </tr>\n",
       "    <tr>\n",
       "      <th>4</th>\n",
       "      <td>ID_3293uJ</td>\n",
       "      <td>4.495049</td>\n",
       "    </tr>\n",
       "  </tbody>\n",
       "</table>\n",
       "</div>"
      ],
      "text/plain": [
       "          id         close\n",
       "0  ID_323Sn2      4.495049\n",
       "1  ID_325SNW  11343.828479\n",
       "2  ID_325uzE   6306.091579\n",
       "3  ID_328qCx      4.495049\n",
       "4  ID_3293uJ      4.495049"
      ]
     },
     "execution_count": 176,
     "metadata": {},
     "output_type": "execute_result"
    }
   ],
   "source": [
    "test_features = test[features]\n",
    "test_features = feat_scaler.transform(test_features)\n",
    "\n",
    "# prediction\n",
    "close = lm.predict(test_features)\n",
    "close_descale = lab_scaler.inverse_transform(close)\n",
    "\n",
    "# sub dataframe\n",
    "sub = pd.DataFrame({'id': test['id']})\n",
    "sub['close'] = close_descale\n",
    "sub.head()"
   ]
  },
  {
   "cell_type": "code",
   "execution_count": null,
   "metadata": {},
   "outputs": [],
   "source": []
  }
 ],
 "metadata": {
  "colab": {
   "collapsed_sections": [],
   "name": "AIhackathon2.0_StarterNotebook.ipynb",
   "provenance": [],
   "toc_visible": true
  },
  "kernelspec": {
   "display_name": "Python 3",
   "language": "python",
   "name": "python3"
  },
  "language_info": {
   "codemirror_mode": {
    "name": "ipython",
    "version": 3
   },
   "file_extension": ".py",
   "mimetype": "text/x-python",
   "name": "python",
   "nbconvert_exporter": "python",
   "pygments_lexer": "ipython3",
   "version": "3.8.8"
  }
 },
 "nbformat": 4,
 "nbformat_minor": 1
}
